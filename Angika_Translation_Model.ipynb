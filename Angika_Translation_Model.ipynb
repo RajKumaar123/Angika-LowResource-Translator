{
  "cells": [
    {
      "cell_type": "markdown",
      "metadata": {
        "id": "x7zblvcWYetA"
      },
      "source": [
        "The notebook **Angika_Translation_Model.ipynb** contains a sequence of Python code cells primarily aimed at loading data, preprocessing it, and using it to train a machine translation model. Below is a description of the tasks performed by the cells:\n",
        "\n",
        "**Environment Setup and Library Importation:**\n",
        "Sets up the Python environment and imports necessary libraries such as numpy, pandas, and keras.\n",
        "Lists files in a specified directory, useful for ensuring data availability.\n",
        "\n",
        "**Data Loading:**\n",
        "Loads a dataset from an Excel file containing multilingual data for translation tasks.\n",
        "\n",
        "**Data Preprocessing:**\n",
        "Filters rows based on a specific condition (e.g., where 'Label' equals 'Social').\n",
        "Displays a subset of the data and checks for missing values.\n",
        "\n",
        "**Model Building and Compilation:**\n",
        "Sets up a sequential model including LSTM layers for the task of machine translation.\n",
        "Compiles the model specifying the optimizer and loss function.\n",
        "\n",
        "**Training Preparation:**\n",
        "Prepares training data, including tokenization and encoding.\n",
        "\n",
        "**Model Training:**\n",
        "Trains the model on the preprocessed data and validates it using a separate validation set.\n",
        "\n",
        "**Prediction and Evaluation:**\n",
        "Generates predictions for a batch of data and prints out the input, actual, and predicted translations to evaluate model performance."
      ]
    },
    {
      "cell_type": "code",
      "execution_count": null,
      "metadata": {
        "colab": {
          "base_uri": "https://localhost:8080/"
        },
        "id": "CtO61Tkmd_QO",
        "outputId": "3d1a5c63-beb6-42c7-fb34-9ff3486667f2"
      },
      "outputs": [
        {
          "name": "stdout",
          "output_type": "stream",
          "text": [
            "TensorFlow version: 2.18.0\n",
            "✅ Setup Complete\n"
          ]
        }
      ],
      "source": [
        "import numpy as np\n",
        "import pandas as pd\n",
        "import os\n",
        "import string\n",
        "from string import digits\n",
        "import matplotlib.pyplot as plt\n",
        "%matplotlib inline\n",
        "import re\n",
        "import seaborn as sns\n",
        "\n",
        "from sklearn.utils import shuffle\n",
        "from sklearn.model_selection import train_test_split\n",
        "\n",
        "import tensorflow as tf\n",
        "print(\"TensorFlow version:\", tf.__version__)\n",
        "\n",
        "# Use tf.keras (not standalone keras)\n",
        "from tensorflow.keras.layers import Input, LSTM, Embedding, Dense  # type: ignore\n",
        "from tensorflow.keras.models import Model  # type: ignore\n",
        "\n",
        "print(\"✅ Setup Complete\")\n"
      ]
    },
    {
      "cell_type": "code",
      "execution_count": null,
      "metadata": {
        "colab": {
          "base_uri": "https://localhost:8080/"
        },
        "id": "o3LvtpHKQxUO",
        "outputId": "37648acf-047e-4229-a299-4dbcf55d6f73"
      },
      "outputs": [
        {
          "name": "stdout",
          "output_type": "stream",
          "text": [
            "['Angika GPT.xlsx']\n"
          ]
        }
      ],
      "source": [
        "# List files in the data directory to verify availability\n",
        "print(os.listdir(\"/content/drive/MyDrive/Angika-LowResource-Translator/data/\"))"
      ]
    },
    {
      "cell_type": "code",
      "execution_count": null,
      "metadata": {
        "id": "RcAvPMOM66AY"
      },
      "outputs": [],
      "source": [
        "# Improve DataFrame display settings\n",
        "pd.set_option('display.max_rows', 500)\n",
        "pd.set_option('display.max_columns', 500)\n",
        "pd.set_option('display.width', 1000)\n",
        "pd.set_option('display.max_colwidth', None)  # Display full text in columns\n",
        "\n",
        "# Note: All outputs will be written to current directory if using file writes\n"
      ]
    },
    {
      "cell_type": "code",
      "execution_count": null,
      "metadata": {
        "colab": {
          "base_uri": "https://localhost:8080/"
        },
        "id": "1KVVYbNA3Vo_",
        "outputId": "a5534f3e-e417-43fb-ea9e-a0f17917e693"
      },
      "outputs": [
        {
          "name": "stdout",
          "output_type": "stream",
          "text": [
            "          ID                                                                     Angika                                                                                  English\n",
            "0          1                   लोक व्यवहार में जे भाषा के प्रयोग होय है वहे भाषा छिकै ।                                      The language used in folk practice is the language.\n",
            "1          2                             यही लेलो, विशिष्ट लोगों के वाणी भाषा नै छिकै ।                                 Therefore, the speech of the minorities is not language.\n",
            "2          3               जे भाषा साधारण जन-जाति प्रयोग करें, वह मूलतः भाषा कहलावे है।                  The language used by the common people is called the original language.\n",
            "3          4                                           भाषा विज्ञान केरों भी यहै मत है।                                             This is also the case with language imaging.\n",
            "4          5                                               भाषा अत्यन्त व्यापक शब्द है।                                                           Language is a very broad term.\n",
            "...      ...                                                                        ...                                                                                      ...\n",
            "45550  45551                                    अंगिका - सम्पूर्ण भाषा सम्पूर्ण साहित्य                                           Angika - Complete Language Complete Literature\n",
            "45551  45552  2. यह लिपि \"कायस्थों में विशेष रूप से प्रचलित होने के कारण \"कैथी\" कहलाई ।  2. This script was called “Kaithi” because it was especially prevalent among Kayasthas.\n",
            "45552  45553                                        डॉ० - भोलानाथ तिवारी (भाषा विज्ञान)                                                       Dr. Bholanath Tiwari (Linguistics)\n",
            "45553  45554                                                                  इत्यलम् !                                                                             It's enough!\n",
            "45554  45555                                                                        NaN                                                                                      NaN\n",
            "\n",
            "[45555 rows x 3 columns]\n"
          ]
        }
      ],
      "source": [
        "lines = pd.read_excel(\"/content/drive/MyDrive/Angika-LowResource-Translator/data/Angika GPT.xlsx\")\n",
        "print(lines)"
      ]
    },
    {
      "cell_type": "code",
      "execution_count": null,
      "metadata": {
        "colab": {
          "base_uri": "https://localhost:8080/"
        },
        "id": "XH3HZaAs7pVA",
        "outputId": "522b8f3c-4314-4af9-97f2-a847faeb4d38"
      },
      "outputs": [
        {
          "name": "stdout",
          "output_type": "stream",
          "text": [
            "Total rows: 45555\n"
          ]
        }
      ],
      "source": [
        "# Display first 20 rows for inspection\n",
        "lines.head(20)\n",
        "\n",
        "# Optional: Print shape if needed\n",
        "print(\"Total rows:\", lines.shape[0])\n"
      ]
    },
    {
      "cell_type": "code",
      "execution_count": null,
      "metadata": {
        "colab": {
          "base_uri": "https://localhost:8080/",
          "height": 147
        },
        "id": "oXhVd3Mu8NIW",
        "outputId": "8291e928-f46a-42aa-ae09-b33f5b68d184"
      },
      "outputs": [
        {
          "data": {
            "text/html": [
              "<div>\n",
              "<style scoped>\n",
              "    .dataframe tbody tr th:only-of-type {\n",
              "        vertical-align: middle;\n",
              "    }\n",
              "\n",
              "    .dataframe tbody tr th {\n",
              "        vertical-align: top;\n",
              "    }\n",
              "\n",
              "    .dataframe thead th {\n",
              "        text-align: right;\n",
              "    }\n",
              "</style>\n",
              "<table border=\"1\" class=\"dataframe\">\n",
              "  <thead>\n",
              "    <tr style=\"text-align: right;\">\n",
              "      <th></th>\n",
              "      <th>0</th>\n",
              "    </tr>\n",
              "  </thead>\n",
              "  <tbody>\n",
              "    <tr>\n",
              "      <th>Angika</th>\n",
              "      <td>7</td>\n",
              "    </tr>\n",
              "    <tr>\n",
              "      <th>English</th>\n",
              "      <td>235</td>\n",
              "    </tr>\n",
              "  </tbody>\n",
              "</table>\n",
              "</div><br><label><b>dtype:</b> int64</label>"
            ],
            "text/plain": [
              "Angika       7\n",
              "English    235\n",
              "dtype: int64"
            ]
          },
          "execution_count": 58,
          "metadata": {},
          "output_type": "execute_result"
        }
      ],
      "source": [
        "pd.isnull(lines).sum()[pd.isnull(lines).sum() > 0]\n"
      ]
    },
    {
      "cell_type": "code",
      "execution_count": null,
      "metadata": {
        "colab": {
          "base_uri": "https://localhost:8080/",
          "height": 1000
        },
        "id": "TsiZSpZC8WbH",
        "outputId": "68b61775-a20e-4f77-9632-c3f280007a60"
      },
      "outputs": [],
      "source": [
        "lines[lines.isnull().any(axis=1)]\n"
      ]
    },
    {
      "cell_type": "code",
      "execution_count": null,
      "metadata": {
        "id": "vWKtwgW59rib"
      },
      "outputs": [],
      "source": [
        "# Remove rows where 'Angika' is null\n",
        "lines = lines[~pd.isnull(lines['Angika'])]"
      ]
    },
    {
      "cell_type": "code",
      "execution_count": null,
      "metadata": {
        "id": "CsYgpe2N91k7"
      },
      "outputs": [],
      "source": [
        "# Drop duplicate Angika sentences\n",
        "lines.drop_duplicates(subset=['Angika'], inplace=True)"
      ]
    },
    {
      "cell_type": "code",
      "execution_count": null,
      "metadata": {
        "colab": {
          "base_uri": "https://localhost:8080/"
        },
        "id": "adXLRYf29Kte",
        "outputId": "b52e985d-03c0-4786-c166-3295f0e79a0a"
      },
      "outputs": [
        {
          "name": "stdout",
          "output_type": "stream",
          "text": [
            "Cleaned dataset. Remaining rows: 41656 (Removed 0 rows)\n"
          ]
        }
      ],
      "source": [
        "before = len(lines)\n",
        "lines = lines[~pd.isnull(lines['Angika'])]\n",
        "lines.drop_duplicates(subset=['Angika'], inplace=True)\n",
        "after = len(lines)\n",
        "print(f\"Cleaned dataset. Remaining rows: {after} (Removed {before - after} rows)\")\n"
      ]
    },
    {
      "cell_type": "code",
      "execution_count": null,
      "metadata": {
        "colab": {
          "base_uri": "https://localhost:8080/"
        },
        "id": "7PXgrql-96QR",
        "outputId": "0aa5fdf0-061c-444c-96e4-45e071f9bbe6"
      },
      "outputs": [
        {
          "name": "stdout",
          "output_type": "stream",
          "text": [
            "Sampled data shape: (400, 3)\n"
          ]
        }
      ],
      "source": [
        "lines=lines.sample(n=400,random_state=5)\n",
        "# ⚠️ Optional: Safety check before sampling\n",
        "assert lines.shape[0] >= 400, \"Not enough rows to sample 400\"\n",
        "lines.shape\n",
        "# ✅ Optional: Print the shape for visibility\n",
        "print(\"Sampled data shape:\", lines.shape)\n"
      ]
    },
    {
      "cell_type": "code",
      "execution_count": null,
      "metadata": {
        "colab": {
          "base_uri": "https://localhost:8080/"
        },
        "id": "65O7UBJERh-_",
        "outputId": "504c208c-9e01-479c-e352-9f9ed11750e7"
      },
      "outputs": [
        {
          "name": "stdout",
          "output_type": "stream",
          "text": [
            "Sampled data shape: (400, 3)\n"
          ]
        }
      ],
      "source": [
        "# ✅ Step: Check if the DataFrame is empty\n",
        "if lines.empty:\n",
        "    print(\"DataFrame is empty. Cannot sample.\")\n",
        "\n",
        "else:\n",
        "    # ✅ Step: Choose sample size safely (max 45,000 or total available rows)\n",
        "    sample_size = min(45000, len(lines))\n",
        "\n",
        "    # 🎯 Step: Sample the data randomly but reproducibly\n",
        "    lines = lines.sample(n=sample_size, random_state=5)\n",
        "\n",
        "    # 📊 Step: Confirm the new shape of the sampled DataFrame\n",
        "    print(\"Sampled data shape:\", lines.shape)\n"
      ]
    },
    {
      "cell_type": "code",
      "execution_count": null,
      "metadata": {
        "id": "JZ_Qld64TX1k"
      },
      "outputs": [],
      "source": [
        "# ✅ Safely convert all Angika and English text to lowercase\n",
        "lines['Angika'] = lines['Angika'].astype(str).str.lower()\n",
        "lines['English'] = lines['English'].astype(str).str.lower()\n"
      ]
    },
    {
      "cell_type": "code",
      "execution_count": null,
      "metadata": {
        "id": "lUS1dyaY-iju"
      },
      "outputs": [],
      "source": [
        "import re  # make sure you've already imported this\n",
        "\n",
        "lines['Angika'] = lines['Angika'].astype(str).str.replace(r\"[\\\"']\", '', regex=True)\n",
        "lines['English'] = lines['English'].astype(str).str.replace(r\"[\\\"']\", '', regex=True)\n"
      ]
    },
    {
      "cell_type": "code",
      "execution_count": null,
      "metadata": {
        "id": "IW0rcox2-vwK"
      },
      "outputs": [],
      "source": [
        "import string\n",
        "\n",
        "# ✅ Create a set of all punctuation characters\n",
        "exclude = set(string.punctuation)\n",
        "\n",
        "# ✅ Remove all punctuation from 'Angika' and 'English' columns\n",
        "lines['Angika'] = lines['Angika'].astype(str).apply(lambda x: ''.join(ch for ch in x if ch not in exclude))\n",
        "lines['English'] = lines['English'].astype(str).apply(lambda x: ''.join(ch for ch in x if ch not in exclude))\n"
      ]
    },
    {
      "cell_type": "code",
      "execution_count": null,
      "metadata": {
        "id": "6p5TAWd_-8yU"
      },
      "outputs": [],
      "source": [
        "import re\n",
        "\n",
        "# ✅ Remove punctuation using regex\n",
        "lines['Angika'] = lines['Angika'].astype(str).str.replace(r'[^\\w\\s]', '', regex=True)\n",
        "lines['English'] = lines['English'].astype(str).str.replace(r'[^\\w\\s]', '', regex=True)\n",
        "\n"
      ]
    },
    {
      "cell_type": "code",
      "execution_count": null,
      "metadata": {
        "id": "oa-WblWU_eNE"
      },
      "outputs": [],
      "source": [
        "# Add start and end tokens to target sequences\n",
        "lines['English'] = lines['English'].apply(lambda x : f'START_ {x.strip()} _END')\n"
      ]
    },
    {
      "cell_type": "code",
      "execution_count": null,
      "metadata": {
        "colab": {
          "base_uri": "https://localhost:8080/",
          "height": 241
        },
        "id": "tdxLfbSW_lpo",
        "outputId": "00e070fc-5e73-4dc5-a89c-122a46f7cbd9"
      },
      "outputs": [
        {
          "data": {
            "application/vnd.google.colaboratory.intrinsic+json": {
              "summary": "{\n  \"name\": \"lines\",\n  \"rows\": 400,\n  \"fields\": [\n    {\n      \"column\": \"ID\",\n      \"properties\": {\n        \"dtype\": \"number\",\n        \"std\": 13926,\n        \"min\": 58,\n        \"max\": 45450,\n        \"num_unique_values\": 400,\n        \"samples\": [\n          30177,\n          27430,\n          8170\n        ],\n        \"semantic_type\": \"\",\n        \"description\": \"\"\n      }\n    },\n    {\n      \"column\": \"Angika\",\n      \"properties\": {\n        \"dtype\": \"string\",\n        \"num_unique_values\": 400,\n        \"samples\": [\n          \"\\u0905\\u0928\\u0935\\u0930\\u092f \\u0938\\u092d \\u0939 \\u0915\\u0928 \\u0928\\u0930\\u091a \\u092e\\u0915\\u0924 \\u0935\\u0924 \\u0906\\u0924 \\u092d\\u0935 \\u0915\\u0938 \\u0926\\u0937 \\u0928\\u0939\\u0928\\u0915 \\u0938\\u0930\\u0935\\u0928\\u092f\\u0915 \\u0939 \\u091c\\u0917 \\u0915 \\u0917\\u0928\\u0915\\u0930\",\n          \"\\u0938 \\u0915\\u0936\\u0928 \\u0915 \\u092c\\u0939\\u0924 \\u0939\\u0924 \\u0939 \\u0930\\u092f\\u0928\\u0938\\u092d \\u092e \\u0936\\u0930 \\u0936\\u0939\\u0932 \\u0917\\u0932 \\u0938\\u0930\\u0935 \\u0936\\u0930 \\u0939\\u0924 \\u0906\\u092f\\u0939\\u0924 \\u0939\",\n          \"\\u092a\\u0917\\u0921 \\u0938 \\u0932\\u0930 \\u092a\\u0932\\u091b\"\n        ],\n        \"semantic_type\": \"\",\n        \"description\": \"\"\n      }\n    },\n    {\n      \"column\": \"English\",\n      \"properties\": {\n        \"dtype\": \"string\",\n        \"num_unique_values\": 400,\n        \"samples\": [\n          \"START_ essential assembly is obligatory and indicates no default of the noun _END\",\n          \"START_ with the advent of the kisan sabha it started gaining momentum in the legislative assembly and continued to do so _END\",\n          \"START_ he adjusts his turban with longing _END\"\n        ],\n        \"semantic_type\": \"\",\n        \"description\": \"\"\n      }\n    }\n  ]\n}",
              "type": "dataframe",
              "variable_name": "lines"
            },
            "text/html": [
              "\n",
              "  <div id=\"df-7018c6b5-fdeb-4625-8b74-49f522754173\" class=\"colab-df-container\">\n",
              "    <div>\n",
              "<style scoped>\n",
              "    .dataframe tbody tr th:only-of-type {\n",
              "        vertical-align: middle;\n",
              "    }\n",
              "\n",
              "    .dataframe tbody tr th {\n",
              "        vertical-align: top;\n",
              "    }\n",
              "\n",
              "    .dataframe thead th {\n",
              "        text-align: right;\n",
              "    }\n",
              "</style>\n",
              "<table border=\"1\" class=\"dataframe\">\n",
              "  <thead>\n",
              "    <tr style=\"text-align: right;\">\n",
              "      <th></th>\n",
              "      <th>ID</th>\n",
              "      <th>Angika</th>\n",
              "      <th>English</th>\n",
              "    </tr>\n",
              "  </thead>\n",
              "  <tbody>\n",
              "    <tr>\n",
              "      <th>25390</th>\n",
              "      <td>25391</td>\n",
              "      <td>सरपत क चहर मलन ह जन कहस बच चनरम करण सरव र दपदय दप भद पडव आर पनरम</td>\n",
              "      <td>START_ indras face was pale like the moon amidst mist while karna shone like the sun piercing through the clouds _END</td>\n",
              "    </tr>\n",
              "    <tr>\n",
              "      <th>30571</th>\n",
              "      <td>30572</td>\n",
              "      <td>मत मर</td>\n",
              "      <td>START_ beaten mother _END</td>\n",
              "    </tr>\n",
              "    <tr>\n",
              "      <th>18609</th>\n",
              "      <td>18610</td>\n",
              "      <td>दकखन दजञ गठ पर डप पतत जगवर क दज सट स क दडन जर हमन</td>\n",
              "      <td>START_ on the southern side of the pit the joggers continued running _END</td>\n",
              "    </tr>\n",
              "    <tr>\n",
              "      <th>44442</th>\n",
              "      <td>44443</td>\n",
              "      <td>पसकस pisces</td>\n",
              "      <td>START_ pisces _END</td>\n",
              "    </tr>\n",
              "    <tr>\n",
              "      <th>32002</th>\n",
              "      <td>32003</td>\n",
              "      <td>कगजपततर</td>\n",
              "      <td>START_ paper and leaves _END</td>\n",
              "    </tr>\n",
              "  </tbody>\n",
              "</table>\n",
              "</div>\n",
              "    <div class=\"colab-df-buttons\">\n",
              "\n",
              "  <div class=\"colab-df-container\">\n",
              "    <button class=\"colab-df-convert\" onclick=\"convertToInteractive('df-7018c6b5-fdeb-4625-8b74-49f522754173')\"\n",
              "            title=\"Convert this dataframe to an interactive table.\"\n",
              "            style=\"display:none;\">\n",
              "\n",
              "  <svg xmlns=\"http://www.w3.org/2000/svg\" height=\"24px\" viewBox=\"0 -960 960 960\">\n",
              "    <path d=\"M120-120v-720h720v720H120Zm60-500h600v-160H180v160Zm220 220h160v-160H400v160Zm0 220h160v-160H400v160ZM180-400h160v-160H180v160Zm440 0h160v-160H620v160ZM180-180h160v-160H180v160Zm440 0h160v-160H620v160Z\"/>\n",
              "  </svg>\n",
              "    </button>\n",
              "\n",
              "  <style>\n",
              "    .colab-df-container {\n",
              "      display:flex;\n",
              "      gap: 12px;\n",
              "    }\n",
              "\n",
              "    .colab-df-convert {\n",
              "      background-color: #E8F0FE;\n",
              "      border: none;\n",
              "      border-radius: 50%;\n",
              "      cursor: pointer;\n",
              "      display: none;\n",
              "      fill: #1967D2;\n",
              "      height: 32px;\n",
              "      padding: 0 0 0 0;\n",
              "      width: 32px;\n",
              "    }\n",
              "\n",
              "    .colab-df-convert:hover {\n",
              "      background-color: #E2EBFA;\n",
              "      box-shadow: 0px 1px 2px rgba(60, 64, 67, 0.3), 0px 1px 3px 1px rgba(60, 64, 67, 0.15);\n",
              "      fill: #174EA6;\n",
              "    }\n",
              "\n",
              "    .colab-df-buttons div {\n",
              "      margin-bottom: 4px;\n",
              "    }\n",
              "\n",
              "    [theme=dark] .colab-df-convert {\n",
              "      background-color: #3B4455;\n",
              "      fill: #D2E3FC;\n",
              "    }\n",
              "\n",
              "    [theme=dark] .colab-df-convert:hover {\n",
              "      background-color: #434B5C;\n",
              "      box-shadow: 0px 1px 3px 1px rgba(0, 0, 0, 0.15);\n",
              "      filter: drop-shadow(0px 1px 2px rgba(0, 0, 0, 0.3));\n",
              "      fill: #FFFFFF;\n",
              "    }\n",
              "  </style>\n",
              "\n",
              "    <script>\n",
              "      const buttonEl =\n",
              "        document.querySelector('#df-7018c6b5-fdeb-4625-8b74-49f522754173 button.colab-df-convert');\n",
              "      buttonEl.style.display =\n",
              "        google.colab.kernel.accessAllowed ? 'block' : 'none';\n",
              "\n",
              "      async function convertToInteractive(key) {\n",
              "        const element = document.querySelector('#df-7018c6b5-fdeb-4625-8b74-49f522754173');\n",
              "        const dataTable =\n",
              "          await google.colab.kernel.invokeFunction('convertToInteractive',\n",
              "                                                    [key], {});\n",
              "        if (!dataTable) return;\n",
              "\n",
              "        const docLinkHtml = 'Like what you see? Visit the ' +\n",
              "          '<a target=\"_blank\" href=https://colab.research.google.com/notebooks/data_table.ipynb>data table notebook</a>'\n",
              "          + ' to learn more about interactive tables.';\n",
              "        element.innerHTML = '';\n",
              "        dataTable['output_type'] = 'display_data';\n",
              "        await google.colab.output.renderOutput(dataTable, element);\n",
              "        const docLink = document.createElement('div');\n",
              "        docLink.innerHTML = docLinkHtml;\n",
              "        element.appendChild(docLink);\n",
              "      }\n",
              "    </script>\n",
              "  </div>\n",
              "\n",
              "\n",
              "    <div id=\"df-aaaf74a0-a01d-4b7d-b5e4-77c296c6a76f\">\n",
              "      <button class=\"colab-df-quickchart\" onclick=\"quickchart('df-aaaf74a0-a01d-4b7d-b5e4-77c296c6a76f')\"\n",
              "                title=\"Suggest charts\"\n",
              "                style=\"display:none;\">\n",
              "\n",
              "<svg xmlns=\"http://www.w3.org/2000/svg\" height=\"24px\"viewBox=\"0 0 24 24\"\n",
              "     width=\"24px\">\n",
              "    <g>\n",
              "        <path d=\"M19 3H5c-1.1 0-2 .9-2 2v14c0 1.1.9 2 2 2h14c1.1 0 2-.9 2-2V5c0-1.1-.9-2-2-2zM9 17H7v-7h2v7zm4 0h-2V7h2v10zm4 0h-2v-4h2v4z\"/>\n",
              "    </g>\n",
              "</svg>\n",
              "      </button>\n",
              "\n",
              "<style>\n",
              "  .colab-df-quickchart {\n",
              "      --bg-color: #E8F0FE;\n",
              "      --fill-color: #1967D2;\n",
              "      --hover-bg-color: #E2EBFA;\n",
              "      --hover-fill-color: #174EA6;\n",
              "      --disabled-fill-color: #AAA;\n",
              "      --disabled-bg-color: #DDD;\n",
              "  }\n",
              "\n",
              "  [theme=dark] .colab-df-quickchart {\n",
              "      --bg-color: #3B4455;\n",
              "      --fill-color: #D2E3FC;\n",
              "      --hover-bg-color: #434B5C;\n",
              "      --hover-fill-color: #FFFFFF;\n",
              "      --disabled-bg-color: #3B4455;\n",
              "      --disabled-fill-color: #666;\n",
              "  }\n",
              "\n",
              "  .colab-df-quickchart {\n",
              "    background-color: var(--bg-color);\n",
              "    border: none;\n",
              "    border-radius: 50%;\n",
              "    cursor: pointer;\n",
              "    display: none;\n",
              "    fill: var(--fill-color);\n",
              "    height: 32px;\n",
              "    padding: 0;\n",
              "    width: 32px;\n",
              "  }\n",
              "\n",
              "  .colab-df-quickchart:hover {\n",
              "    background-color: var(--hover-bg-color);\n",
              "    box-shadow: 0 1px 2px rgba(60, 64, 67, 0.3), 0 1px 3px 1px rgba(60, 64, 67, 0.15);\n",
              "    fill: var(--button-hover-fill-color);\n",
              "  }\n",
              "\n",
              "  .colab-df-quickchart-complete:disabled,\n",
              "  .colab-df-quickchart-complete:disabled:hover {\n",
              "    background-color: var(--disabled-bg-color);\n",
              "    fill: var(--disabled-fill-color);\n",
              "    box-shadow: none;\n",
              "  }\n",
              "\n",
              "  .colab-df-spinner {\n",
              "    border: 2px solid var(--fill-color);\n",
              "    border-color: transparent;\n",
              "    border-bottom-color: var(--fill-color);\n",
              "    animation:\n",
              "      spin 1s steps(1) infinite;\n",
              "  }\n",
              "\n",
              "  @keyframes spin {\n",
              "    0% {\n",
              "      border-color: transparent;\n",
              "      border-bottom-color: var(--fill-color);\n",
              "      border-left-color: var(--fill-color);\n",
              "    }\n",
              "    20% {\n",
              "      border-color: transparent;\n",
              "      border-left-color: var(--fill-color);\n",
              "      border-top-color: var(--fill-color);\n",
              "    }\n",
              "    30% {\n",
              "      border-color: transparent;\n",
              "      border-left-color: var(--fill-color);\n",
              "      border-top-color: var(--fill-color);\n",
              "      border-right-color: var(--fill-color);\n",
              "    }\n",
              "    40% {\n",
              "      border-color: transparent;\n",
              "      border-right-color: var(--fill-color);\n",
              "      border-top-color: var(--fill-color);\n",
              "    }\n",
              "    60% {\n",
              "      border-color: transparent;\n",
              "      border-right-color: var(--fill-color);\n",
              "    }\n",
              "    80% {\n",
              "      border-color: transparent;\n",
              "      border-right-color: var(--fill-color);\n",
              "      border-bottom-color: var(--fill-color);\n",
              "    }\n",
              "    90% {\n",
              "      border-color: transparent;\n",
              "      border-bottom-color: var(--fill-color);\n",
              "    }\n",
              "  }\n",
              "</style>\n",
              "\n",
              "      <script>\n",
              "        async function quickchart(key) {\n",
              "          const quickchartButtonEl =\n",
              "            document.querySelector('#' + key + ' button');\n",
              "          quickchartButtonEl.disabled = true;  // To prevent multiple clicks.\n",
              "          quickchartButtonEl.classList.add('colab-df-spinner');\n",
              "          try {\n",
              "            const charts = await google.colab.kernel.invokeFunction(\n",
              "                'suggestCharts', [key], {});\n",
              "          } catch (error) {\n",
              "            console.error('Error during call to suggestCharts:', error);\n",
              "          }\n",
              "          quickchartButtonEl.classList.remove('colab-df-spinner');\n",
              "          quickchartButtonEl.classList.add('colab-df-quickchart-complete');\n",
              "        }\n",
              "        (() => {\n",
              "          let quickchartButtonEl =\n",
              "            document.querySelector('#df-aaaf74a0-a01d-4b7d-b5e4-77c296c6a76f button');\n",
              "          quickchartButtonEl.style.display =\n",
              "            google.colab.kernel.accessAllowed ? 'block' : 'none';\n",
              "        })();\n",
              "      </script>\n",
              "    </div>\n",
              "\n",
              "    </div>\n",
              "  </div>\n"
            ],
            "text/plain": [
              "          ID                                                             Angika                                                                                                                English\n",
              "25390  25391  सरपत क चहर मलन ह जन कहस बच चनरम करण सरव र दपदय दप भद पडव आर पनरम   START_ indras face was pale like the moon amidst mist while karna shone like the sun piercing through the clouds _END\n",
              "30571  30572                                                              मत मर                                                                                              START_ beaten mother _END\n",
              "18609  18610                  दकखन दजञ गठ पर डप पतत जगवर क दज सट स क दडन जर हमन                                              START_ on the southern side of the pit the joggers continued running _END\n",
              "44442  44443                                                        पसकस pisces                                                                                                     START_ pisces _END\n",
              "32002  32003                                                            कगजपततर                                                                                           START_ paper and leaves _END"
            ]
          },
          "execution_count": 70,
          "metadata": {},
          "output_type": "execute_result"
        }
      ],
      "source": [
        "lines.head()"
      ]
    },
    {
      "cell_type": "code",
      "execution_count": null,
      "metadata": {
        "id": "Os7dFnne_vJQ"
      },
      "outputs": [],
      "source": [
        "# Angika Vocabulary\n",
        "all_Angika_words = {word for sentence in lines['Angika'] for word in sentence.split()}\n",
        "\n",
        "# English Vocabulary\n",
        "all_Eng_words = {word for sentence in lines['English'] for word in sentence.split()}\n"
      ]
    },
    {
      "cell_type": "code",
      "execution_count": null,
      "metadata": {
        "colab": {
          "base_uri": "https://localhost:8080/"
        },
        "id": "nxm82bfVE3jb",
        "outputId": "82f9dd9c-5f0c-4abe-e778-f97e515dc916"
      },
      "outputs": [
        {
          "name": "stdout",
          "output_type": "stream",
          "text": [
            "Unique Angika words: 1490\n",
            "Unique English words: 1564\n"
          ]
        }
      ],
      "source": [
        "print(\"Unique Angika words:\", len(all_Angika_words))\n",
        "print(\"Unique English words:\", len(all_Eng_words))\n"
      ]
    },
    {
      "cell_type": "code",
      "execution_count": null,
      "metadata": {
        "id": "w4GUgfnXCTPQ"
      },
      "outputs": [],
      "source": [
        "lines['length_Angika_sentence'] = lines['Angika'].str.split().str.len()\n",
        "lines['length_Eng_sentence'] = lines['English'].str.split().str.len()"
      ]
    },
    {
      "cell_type": "code",
      "execution_count": null,
      "metadata": {
        "colab": {
          "base_uri": "https://localhost:8080/",
          "height": 293
        },
        "id": "NWWbJtUKCgB5",
        "outputId": "0847a2ce-fb93-439f-cbc9-0c669cd1260a"
      },
      "outputs": [
        {
          "data": {
            "application/vnd.google.colaboratory.intrinsic+json": {
              "summary": "{\n  \"name\": \"lines\",\n  \"rows\": 400,\n  \"fields\": [\n    {\n      \"column\": \"ID\",\n      \"properties\": {\n        \"dtype\": \"number\",\n        \"std\": 13926,\n        \"min\": 58,\n        \"max\": 45450,\n        \"num_unique_values\": 400,\n        \"samples\": [\n          30177,\n          27430,\n          8170\n        ],\n        \"semantic_type\": \"\",\n        \"description\": \"\"\n      }\n    },\n    {\n      \"column\": \"Angika\",\n      \"properties\": {\n        \"dtype\": \"string\",\n        \"num_unique_values\": 400,\n        \"samples\": [\n          \"\\u0905\\u0928\\u0935\\u0930\\u092f \\u0938\\u092d \\u0939 \\u0915\\u0928 \\u0928\\u0930\\u091a \\u092e\\u0915\\u0924 \\u0935\\u0924 \\u0906\\u0924 \\u092d\\u0935 \\u0915\\u0938 \\u0926\\u0937 \\u0928\\u0939\\u0928\\u0915 \\u0938\\u0930\\u0935\\u0928\\u092f\\u0915 \\u0939 \\u091c\\u0917 \\u0915 \\u0917\\u0928\\u0915\\u0930\",\n          \"\\u0938 \\u0915\\u0936\\u0928 \\u0915 \\u092c\\u0939\\u0924 \\u0939\\u0924 \\u0939 \\u0930\\u092f\\u0928\\u0938\\u092d \\u092e \\u0936\\u0930 \\u0936\\u0939\\u0932 \\u0917\\u0932 \\u0938\\u0930\\u0935 \\u0936\\u0930 \\u0939\\u0924 \\u0906\\u092f\\u0939\\u0924 \\u0939\",\n          \"\\u092a\\u0917\\u0921 \\u0938 \\u0932\\u0930 \\u092a\\u0932\\u091b\"\n        ],\n        \"semantic_type\": \"\",\n        \"description\": \"\"\n      }\n    },\n    {\n      \"column\": \"English\",\n      \"properties\": {\n        \"dtype\": \"string\",\n        \"num_unique_values\": 400,\n        \"samples\": [\n          \"START_ essential assembly is obligatory and indicates no default of the noun _END\",\n          \"START_ with the advent of the kisan sabha it started gaining momentum in the legislative assembly and continued to do so _END\",\n          \"START_ he adjusts his turban with longing _END\"\n        ],\n        \"semantic_type\": \"\",\n        \"description\": \"\"\n      }\n    },\n    {\n      \"column\": \"length_Angika_sentence\",\n      \"properties\": {\n        \"dtype\": \"number\",\n        \"std\": 7,\n        \"min\": 1,\n        \"max\": 61,\n        \"num_unique_values\": 36,\n        \"samples\": [\n          34,\n          6,\n          28\n        ],\n        \"semantic_type\": \"\",\n        \"description\": \"\"\n      }\n    },\n    {\n      \"column\": \"length_Eng_sentence\",\n      \"properties\": {\n        \"dtype\": \"number\",\n        \"std\": 6,\n        \"min\": 3,\n        \"max\": 48,\n        \"num_unique_values\": 33,\n        \"samples\": [\n          46,\n          19,\n          34\n        ],\n        \"semantic_type\": \"\",\n        \"description\": \"\"\n      }\n    }\n  ]\n}",
              "type": "dataframe",
              "variable_name": "lines"
            },
            "text/html": [
              "\n",
              "  <div id=\"df-53c65b1e-3acb-4e74-a630-c8f0d0bb12fe\" class=\"colab-df-container\">\n",
              "    <div>\n",
              "<style scoped>\n",
              "    .dataframe tbody tr th:only-of-type {\n",
              "        vertical-align: middle;\n",
              "    }\n",
              "\n",
              "    .dataframe tbody tr th {\n",
              "        vertical-align: top;\n",
              "    }\n",
              "\n",
              "    .dataframe thead th {\n",
              "        text-align: right;\n",
              "    }\n",
              "</style>\n",
              "<table border=\"1\" class=\"dataframe\">\n",
              "  <thead>\n",
              "    <tr style=\"text-align: right;\">\n",
              "      <th></th>\n",
              "      <th>ID</th>\n",
              "      <th>Angika</th>\n",
              "      <th>English</th>\n",
              "      <th>length_Angika_sentence</th>\n",
              "      <th>length_Eng_sentence</th>\n",
              "    </tr>\n",
              "  </thead>\n",
              "  <tbody>\n",
              "    <tr>\n",
              "      <th>25390</th>\n",
              "      <td>25391</td>\n",
              "      <td>सरपत क चहर मलन ह जन कहस बच चनरम करण सरव र दपदय दप भद पडव आर पनरम</td>\n",
              "      <td>START_ indras face was pale like the moon amidst mist while karna shone like the sun piercing through the clouds _END</td>\n",
              "      <td>18</td>\n",
              "      <td>21</td>\n",
              "    </tr>\n",
              "    <tr>\n",
              "      <th>30571</th>\n",
              "      <td>30572</td>\n",
              "      <td>मत मर</td>\n",
              "      <td>START_ beaten mother _END</td>\n",
              "      <td>2</td>\n",
              "      <td>4</td>\n",
              "    </tr>\n",
              "    <tr>\n",
              "      <th>18609</th>\n",
              "      <td>18610</td>\n",
              "      <td>दकखन दजञ गठ पर डप पतत जगवर क दज सट स क दडन जर हमन</td>\n",
              "      <td>START_ on the southern side of the pit the joggers continued running _END</td>\n",
              "      <td>15</td>\n",
              "      <td>13</td>\n",
              "    </tr>\n",
              "    <tr>\n",
              "      <th>44442</th>\n",
              "      <td>44443</td>\n",
              "      <td>पसकस pisces</td>\n",
              "      <td>START_ pisces _END</td>\n",
              "      <td>2</td>\n",
              "      <td>3</td>\n",
              "    </tr>\n",
              "    <tr>\n",
              "      <th>32002</th>\n",
              "      <td>32003</td>\n",
              "      <td>कगजपततर</td>\n",
              "      <td>START_ paper and leaves _END</td>\n",
              "      <td>1</td>\n",
              "      <td>5</td>\n",
              "    </tr>\n",
              "  </tbody>\n",
              "</table>\n",
              "</div>\n",
              "    <div class=\"colab-df-buttons\">\n",
              "\n",
              "  <div class=\"colab-df-container\">\n",
              "    <button class=\"colab-df-convert\" onclick=\"convertToInteractive('df-53c65b1e-3acb-4e74-a630-c8f0d0bb12fe')\"\n",
              "            title=\"Convert this dataframe to an interactive table.\"\n",
              "            style=\"display:none;\">\n",
              "\n",
              "  <svg xmlns=\"http://www.w3.org/2000/svg\" height=\"24px\" viewBox=\"0 -960 960 960\">\n",
              "    <path d=\"M120-120v-720h720v720H120Zm60-500h600v-160H180v160Zm220 220h160v-160H400v160Zm0 220h160v-160H400v160ZM180-400h160v-160H180v160Zm440 0h160v-160H620v160ZM180-180h160v-160H180v160Zm440 0h160v-160H620v160Z\"/>\n",
              "  </svg>\n",
              "    </button>\n",
              "\n",
              "  <style>\n",
              "    .colab-df-container {\n",
              "      display:flex;\n",
              "      gap: 12px;\n",
              "    }\n",
              "\n",
              "    .colab-df-convert {\n",
              "      background-color: #E8F0FE;\n",
              "      border: none;\n",
              "      border-radius: 50%;\n",
              "      cursor: pointer;\n",
              "      display: none;\n",
              "      fill: #1967D2;\n",
              "      height: 32px;\n",
              "      padding: 0 0 0 0;\n",
              "      width: 32px;\n",
              "    }\n",
              "\n",
              "    .colab-df-convert:hover {\n",
              "      background-color: #E2EBFA;\n",
              "      box-shadow: 0px 1px 2px rgba(60, 64, 67, 0.3), 0px 1px 3px 1px rgba(60, 64, 67, 0.15);\n",
              "      fill: #174EA6;\n",
              "    }\n",
              "\n",
              "    .colab-df-buttons div {\n",
              "      margin-bottom: 4px;\n",
              "    }\n",
              "\n",
              "    [theme=dark] .colab-df-convert {\n",
              "      background-color: #3B4455;\n",
              "      fill: #D2E3FC;\n",
              "    }\n",
              "\n",
              "    [theme=dark] .colab-df-convert:hover {\n",
              "      background-color: #434B5C;\n",
              "      box-shadow: 0px 1px 3px 1px rgba(0, 0, 0, 0.15);\n",
              "      filter: drop-shadow(0px 1px 2px rgba(0, 0, 0, 0.3));\n",
              "      fill: #FFFFFF;\n",
              "    }\n",
              "  </style>\n",
              "\n",
              "    <script>\n",
              "      const buttonEl =\n",
              "        document.querySelector('#df-53c65b1e-3acb-4e74-a630-c8f0d0bb12fe button.colab-df-convert');\n",
              "      buttonEl.style.display =\n",
              "        google.colab.kernel.accessAllowed ? 'block' : 'none';\n",
              "\n",
              "      async function convertToInteractive(key) {\n",
              "        const element = document.querySelector('#df-53c65b1e-3acb-4e74-a630-c8f0d0bb12fe');\n",
              "        const dataTable =\n",
              "          await google.colab.kernel.invokeFunction('convertToInteractive',\n",
              "                                                    [key], {});\n",
              "        if (!dataTable) return;\n",
              "\n",
              "        const docLinkHtml = 'Like what you see? Visit the ' +\n",
              "          '<a target=\"_blank\" href=https://colab.research.google.com/notebooks/data_table.ipynb>data table notebook</a>'\n",
              "          + ' to learn more about interactive tables.';\n",
              "        element.innerHTML = '';\n",
              "        dataTable['output_type'] = 'display_data';\n",
              "        await google.colab.output.renderOutput(dataTable, element);\n",
              "        const docLink = document.createElement('div');\n",
              "        docLink.innerHTML = docLinkHtml;\n",
              "        element.appendChild(docLink);\n",
              "      }\n",
              "    </script>\n",
              "  </div>\n",
              "\n",
              "\n",
              "    <div id=\"df-888eee43-3029-47c3-8927-a36e79504c11\">\n",
              "      <button class=\"colab-df-quickchart\" onclick=\"quickchart('df-888eee43-3029-47c3-8927-a36e79504c11')\"\n",
              "                title=\"Suggest charts\"\n",
              "                style=\"display:none;\">\n",
              "\n",
              "<svg xmlns=\"http://www.w3.org/2000/svg\" height=\"24px\"viewBox=\"0 0 24 24\"\n",
              "     width=\"24px\">\n",
              "    <g>\n",
              "        <path d=\"M19 3H5c-1.1 0-2 .9-2 2v14c0 1.1.9 2 2 2h14c1.1 0 2-.9 2-2V5c0-1.1-.9-2-2-2zM9 17H7v-7h2v7zm4 0h-2V7h2v10zm4 0h-2v-4h2v4z\"/>\n",
              "    </g>\n",
              "</svg>\n",
              "      </button>\n",
              "\n",
              "<style>\n",
              "  .colab-df-quickchart {\n",
              "      --bg-color: #E8F0FE;\n",
              "      --fill-color: #1967D2;\n",
              "      --hover-bg-color: #E2EBFA;\n",
              "      --hover-fill-color: #174EA6;\n",
              "      --disabled-fill-color: #AAA;\n",
              "      --disabled-bg-color: #DDD;\n",
              "  }\n",
              "\n",
              "  [theme=dark] .colab-df-quickchart {\n",
              "      --bg-color: #3B4455;\n",
              "      --fill-color: #D2E3FC;\n",
              "      --hover-bg-color: #434B5C;\n",
              "      --hover-fill-color: #FFFFFF;\n",
              "      --disabled-bg-color: #3B4455;\n",
              "      --disabled-fill-color: #666;\n",
              "  }\n",
              "\n",
              "  .colab-df-quickchart {\n",
              "    background-color: var(--bg-color);\n",
              "    border: none;\n",
              "    border-radius: 50%;\n",
              "    cursor: pointer;\n",
              "    display: none;\n",
              "    fill: var(--fill-color);\n",
              "    height: 32px;\n",
              "    padding: 0;\n",
              "    width: 32px;\n",
              "  }\n",
              "\n",
              "  .colab-df-quickchart:hover {\n",
              "    background-color: var(--hover-bg-color);\n",
              "    box-shadow: 0 1px 2px rgba(60, 64, 67, 0.3), 0 1px 3px 1px rgba(60, 64, 67, 0.15);\n",
              "    fill: var(--button-hover-fill-color);\n",
              "  }\n",
              "\n",
              "  .colab-df-quickchart-complete:disabled,\n",
              "  .colab-df-quickchart-complete:disabled:hover {\n",
              "    background-color: var(--disabled-bg-color);\n",
              "    fill: var(--disabled-fill-color);\n",
              "    box-shadow: none;\n",
              "  }\n",
              "\n",
              "  .colab-df-spinner {\n",
              "    border: 2px solid var(--fill-color);\n",
              "    border-color: transparent;\n",
              "    border-bottom-color: var(--fill-color);\n",
              "    animation:\n",
              "      spin 1s steps(1) infinite;\n",
              "  }\n",
              "\n",
              "  @keyframes spin {\n",
              "    0% {\n",
              "      border-color: transparent;\n",
              "      border-bottom-color: var(--fill-color);\n",
              "      border-left-color: var(--fill-color);\n",
              "    }\n",
              "    20% {\n",
              "      border-color: transparent;\n",
              "      border-left-color: var(--fill-color);\n",
              "      border-top-color: var(--fill-color);\n",
              "    }\n",
              "    30% {\n",
              "      border-color: transparent;\n",
              "      border-left-color: var(--fill-color);\n",
              "      border-top-color: var(--fill-color);\n",
              "      border-right-color: var(--fill-color);\n",
              "    }\n",
              "    40% {\n",
              "      border-color: transparent;\n",
              "      border-right-color: var(--fill-color);\n",
              "      border-top-color: var(--fill-color);\n",
              "    }\n",
              "    60% {\n",
              "      border-color: transparent;\n",
              "      border-right-color: var(--fill-color);\n",
              "    }\n",
              "    80% {\n",
              "      border-color: transparent;\n",
              "      border-right-color: var(--fill-color);\n",
              "      border-bottom-color: var(--fill-color);\n",
              "    }\n",
              "    90% {\n",
              "      border-color: transparent;\n",
              "      border-bottom-color: var(--fill-color);\n",
              "    }\n",
              "  }\n",
              "</style>\n",
              "\n",
              "      <script>\n",
              "        async function quickchart(key) {\n",
              "          const quickchartButtonEl =\n",
              "            document.querySelector('#' + key + ' button');\n",
              "          quickchartButtonEl.disabled = true;  // To prevent multiple clicks.\n",
              "          quickchartButtonEl.classList.add('colab-df-spinner');\n",
              "          try {\n",
              "            const charts = await google.colab.kernel.invokeFunction(\n",
              "                'suggestCharts', [key], {});\n",
              "          } catch (error) {\n",
              "            console.error('Error during call to suggestCharts:', error);\n",
              "          }\n",
              "          quickchartButtonEl.classList.remove('colab-df-spinner');\n",
              "          quickchartButtonEl.classList.add('colab-df-quickchart-complete');\n",
              "        }\n",
              "        (() => {\n",
              "          let quickchartButtonEl =\n",
              "            document.querySelector('#df-888eee43-3029-47c3-8927-a36e79504c11 button');\n",
              "          quickchartButtonEl.style.display =\n",
              "            google.colab.kernel.accessAllowed ? 'block' : 'none';\n",
              "        })();\n",
              "      </script>\n",
              "    </div>\n",
              "\n",
              "    </div>\n",
              "  </div>\n"
            ],
            "text/plain": [
              "          ID                                                             Angika                                                                                                                English  length_Angika_sentence  length_Eng_sentence\n",
              "25390  25391  सरपत क चहर मलन ह जन कहस बच चनरम करण सरव र दपदय दप भद पडव आर पनरम   START_ indras face was pale like the moon amidst mist while karna shone like the sun piercing through the clouds _END                      18                   21\n",
              "30571  30572                                                              मत मर                                                                                              START_ beaten mother _END                       2                    4\n",
              "18609  18610                  दकखन दजञ गठ पर डप पतत जगवर क दज सट स क दडन जर हमन                                              START_ on the southern side of the pit the joggers continued running _END                      15                   13\n",
              "44442  44443                                                        पसकस pisces                                                                                                     START_ pisces _END                       2                    3\n",
              "32002  32003                                                            कगजपततर                                                                                           START_ paper and leaves _END                       1                    5"
            ]
          },
          "execution_count": 74,
          "metadata": {},
          "output_type": "execute_result"
        }
      ],
      "source": [
        "lines.head()"
      ]
    },
    {
      "cell_type": "markdown",
      "metadata": {
        "id": "-dnMqy7lFoUA"
      },
      "source": [
        "📊 Visualize Sentence Lengths"
      ]
    },
    {
      "cell_type": "code",
      "execution_count": null,
      "metadata": {
        "colab": {
          "base_uri": "https://localhost:8080/",
          "height": 564
        },
        "id": "KX8vwEMxFT5w",
        "outputId": "d570bb8f-4670-4156-8929-36ef471d36b1"
      },
      "outputs": [
        {
          "data": {
            "image/png": "[encoded data removed]",
            "text/plain": [
              "<Figure size 1200x600 with 1 Axes>"
            ]
          },
          "metadata": {},
          "output_type": "display_data"
        },
        {
          "name": "stdout",
          "output_type": "stream",
          "text": [
            "90th percentile Angika length: 22.0\n",
            "90th percentile English length: 21.0\n"
          ]
        }
      ],
      "source": [
        "import matplotlib.pyplot as plt\n",
        "import seaborn as sns\n",
        "\n",
        "plt.figure(figsize=(12,6))\n",
        "sns.histplot(lines['length_Angika_sentence'], bins=20, color='orange', label='Angika', kde=True)\n",
        "sns.histplot(lines['length_Eng_sentence'], bins=20, color='blue', label='English', kde=True)\n",
        "\n",
        "# Add vertical line for max length cutoff\n",
        "plt.axvline(x=25, color='red', linestyle='--', label='Max Length Cutoff')\n",
        "\n",
        "plt.legend()\n",
        "plt.title(\"Distribution of Sentence Lengths\")\n",
        "plt.xlabel(\"Number of Words\")\n",
        "plt.ylabel(\"Frequency\")\n",
        "plt.show()\n",
        "\n",
        "# Print 90th percentile of sentence lengths\n",
        "print(\"90th percentile Angika length:\", lines['length_Angika_sentence'].quantile(0.90))\n",
        "print(\"90th percentile English length:\", lines['length_Eng_sentence'].quantile(0.90))\n"
      ]
    },
    {
      "cell_type": "markdown",
      "metadata": {
        "id": "NzASLvMgFjpn"
      },
      "source": [
        "1. 📊 Check Distribution of Sentence Lengths"
      ]
    },
    {
      "cell_type": "code",
      "execution_count": null,
      "metadata": {
        "colab": {
          "base_uri": "https://localhost:8080/",
          "height": 586
        },
        "id": "D2u96hYyGO0n",
        "outputId": "4b3658ce-5221-4d5a-f909-0651a80a28b2"
      },
      "outputs": [
        {
          "data": {
            "image/png": "[encoded data removed]",
            "text/plain": [
              "<Figure size 1200x600 with 1 Axes>"
            ]
          },
          "metadata": {},
          "output_type": "display_data"
        },
        {
          "name": "stdout",
          "output_type": "stream",
          "text": [
            "90% of Angika sentences have <=  22.0  words\n",
            "90% of English sentences have <=  21.0  words\n",
            "Filtered dataset size: (373, 5)\n"
          ]
        }
      ],
      "source": [
        "import matplotlib.pyplot as plt\n",
        "import seaborn as sns\n",
        "\n",
        "# Plot histogram with KDE\n",
        "plt.figure(figsize=(12,6))\n",
        "sns.histplot(lines['length_Angika_sentence'], bins=30, color='orange', label='Angika', kde=True)\n",
        "sns.histplot(lines['length_Eng_sentence'], bins=30, color='blue', label='English', kde=True)\n",
        "\n",
        "# Vertical line for visual max threshold\n",
        "plt.axvline(x=25, color='red', linestyle='--', label='Max Length Cutoff')\n",
        "\n",
        "plt.legend()\n",
        "plt.title(\"Distribution of Sentence Lengths\")\n",
        "plt.xlabel(\"Number of Words\")\n",
        "plt.ylabel(\"Frequency\")\n",
        "plt.show()\n",
        "\n",
        "# Print 90th percentile\n",
        "print(\"90% of Angika sentences have <= \", lines['length_Angika_sentence'].quantile(0.90), \" words\")\n",
        "print(\"90% of English sentences have <= \", lines['length_Eng_sentence'].quantile(0.90), \" words\")\n",
        "\n",
        "# Define cutoffs\n",
        "MAX_ANGIKA_LEN = 25\n",
        "MAX_ENG_LEN = 25\n",
        "\n",
        "# Filter long sentences\n",
        "lines = lines[\n",
        "    (lines['length_Angika_sentence'] <= MAX_ANGIKA_LEN) &\n",
        "    (lines['length_Eng_sentence'] <= MAX_ENG_LEN)\n",
        "].reset_index(drop=True)\n",
        "\n",
        "print(\"Filtered dataset size:\", lines.shape)\n",
        "\n",
        "\n"
      ]
    },
    {
      "cell_type": "code",
      "execution_count": null,
      "metadata": {
        "colab": {
          "base_uri": "https://localhost:8080/"
        },
        "id": "Wkjok_OOI91n",
        "outputId": "f038df62-e236-4654-9218-ad8f4adce1e4"
      },
      "outputs": [
        {
          "name": "stdout",
          "output_type": "stream",
          "text": [
            "Angika sentences > 30 words: (0, 5)\n"
          ]
        }
      ],
      "source": [
        "# 👀 Check how many long Angika sentences exist (sanity check)\n",
        "print(\"Angika sentences > 30 words:\", lines[lines['length_Angika_sentence'] > 30].shape)"
      ]
    },
    {
      "cell_type": "code",
      "execution_count": null,
      "metadata": {
        "id": "txk7W4gbCqmg"
      },
      "outputs": [],
      "source": [
        "# ✅ Keep only sentences ≤ 20 words\n",
        "lines = lines[\n",
        "    (lines['length_Angika_sentence'] <= 20) &\n",
        "    (lines['length_Eng_sentence'] <= 20)\n",
        "]"
      ]
    },
    {
      "cell_type": "code",
      "execution_count": null,
      "metadata": {
        "colab": {
          "base_uri": "https://localhost:8080/"
        },
        "id": "q9txN6J2CyQH",
        "outputId": "6c525032-c481-4ad0-a79c-d21d07b0f881"
      },
      "outputs": [
        {
          "name": "stdout",
          "output_type": "stream",
          "text": [
            "Filtered dataset shape: (341, 5)\n"
          ]
        }
      ],
      "source": [
        "# 🧾 Show new dataset shape\n",
        "print(\"Filtered dataset shape:\", lines.shape)"
      ]
    },
    {
      "cell_type": "code",
      "execution_count": null,
      "metadata": {
        "colab": {
          "base_uri": "https://localhost:8080/"
        },
        "id": "5cX4OhEuC2d0",
        "outputId": "ece4119a-f655-412c-fdf5-c885d7c97644"
      },
      "outputs": [
        {
          "name": "stdout",
          "output_type": "stream",
          "text": [
            "Maximum length of Angika Sentence: 20\n",
            "Maximum length of English Sentence: 20\n"
          ]
        }
      ],
      "source": [
        "# 🔍 Confirm the new max lengths\n",
        "print(\"Maximum length of Angika Sentence:\", max(lines['length_Angika_sentence']))\n",
        "print(\"Maximum length of English Sentence:\", max(lines['length_Eng_sentence']))\n"
      ]
    },
    {
      "cell_type": "code",
      "execution_count": null,
      "metadata": {
        "id": "Jl1Q4EmgJPv3"
      },
      "outputs": [],
      "source": [
        "# 📌 Store them for padding later\n",
        "max_length_src = max(lines['length_Angika_sentence'])\n",
        "max_length_tar = max(lines['length_Eng_sentence'])"
      ]
    },
    {
      "cell_type": "code",
      "execution_count": null,
      "metadata": {
        "colab": {
          "base_uri": "https://localhost:8080/"
        },
        "id": "GfBfBMjJDHif",
        "outputId": "9a42cade-85ab-4a2f-a7c3-dbafaa8e39c7"
      },
      "outputs": [
        {
          "name": "stdout",
          "output_type": "stream",
          "text": [
            "Number of encoder tokens: 1490\n",
            "Number of decoder tokens (with padding): 1565\n"
          ]
        }
      ],
      "source": [
        "# 📖 Vocabulary preparation\n",
        "input_words = sorted(list(all_Angika_words))\n",
        "target_words = sorted(list(all_Eng_words))\n",
        "\n",
        "# ⚠️ Filter words in your vocab based on the filtered dataset!\n",
        "# Otherwise, all_Angika_words and all_Eng_words might include discarded rows.\n",
        "# Consider rebuilding vocab here if needed.\n",
        "\n",
        "num_encoder_tokens = len(input_words)\n",
        "num_decoder_tokens = len(target_words)\n",
        "\n",
        "# ✅ Add 1 for zero-padding token\n",
        "num_decoder_tokens += 1\n",
        "\n",
        "print(\"Number of encoder tokens:\", num_encoder_tokens)\n",
        "print(\"Number of decoder tokens (with padding):\", num_decoder_tokens)"
      ]
    },
    {
      "cell_type": "code",
      "execution_count": null,
      "metadata": {
        "id": "aKQlOKNQDRdH"
      },
      "outputs": [],
      "source": [
        "# 🔄 Word to index mapping\n",
        "input_token_index = dict([(word, i + 1) for i, word in enumerate(input_words)])\n",
        "target_token_index = dict([(word, i + 1) for i, word in enumerate(target_words)])"
      ]
    },
    {
      "cell_type": "code",
      "execution_count": null,
      "metadata": {
        "id": "GtlYnruMJm6w"
      },
      "outputs": [],
      "source": [
        "# 📌 Reverse dictionary for decoding predictions later\n",
        "reverse_input_char_index = dict((i, word) for word, i in input_token_index.items())\n",
        "reverse_target_char_index = dict((i, word) for word, i in target_token_index.items())"
      ]
    },
    {
      "cell_type": "code",
      "execution_count": null,
      "metadata": {
        "colab": {
          "base_uri": "https://localhost:8080/"
        },
        "id": "0uHtVb_fJqFw",
        "outputId": "aaa8222e-0955-4c4c-ed1b-3f536a688503"
      },
      "outputs": [
        {
          "name": "stdout",
          "output_type": "stream",
          "text": [
            "      ID                                                            Angika                                                                                          English  length_Angika_sentence  length_Eng_sentence\n",
            "0   7535                                      सवरजय न ऊपर स टपक जन ल सब कय                           START_ if selfrule is imposed from above everyone will understand _END                       9                   11\n",
            "1  26756                                   समपरण सटट क बरषक आय 20 लख रपय ह                                   START_ the annual income of the state is 2 million rupees _END                       9                   12\n",
            "2    462  यदयप ई परयस बहत छट ह आर खड आद क करय परय अनमन पर आधरत ह आर अशदध ह  START_ although this attempt is very small and mostly based on speculation it is incorrect _END                      19                   16\n",
            "3  24254                                            ई सन क सब अवक रह गल छल                                                    START_ hearing this everyone was stunned _END                       8                    7\n",
            "4  17149                                                    ज मलल कह खय नत                                                       START_ whatever it found it didnt eat _END                       5                    8\n",
            "5  36913                                                       दखव छ अब शन                                                                  START_ now shows off glory _END                       4                    6\n",
            "6  26922                                       पब अमरय घष द म बहत सनदर आसर                                           START_ in the east amarai ghosh is very beautiful _END                       8                   10\n",
            "7  32963                                                         फरल बर जय                                                                 START_ it could be returned _END                       3                    6\n",
            "8  34295                                                   लओग चरय आध रत ह                                                    START_ clove is being stolen at midnight _END                       5                    8\n",
            "9  10115                          जर जव उमश रप क गड स दस गज क दर लब पहचल त                           START_ jarro approached about two yards away from umesh raaps car _END                      14                   12\n"
          ]
        }
      ],
      "source": [
        "# 🔀 Shuffle and preview data\n",
        "from sklearn.utils import shuffle\n",
        "lines = shuffle(lines)\n",
        "lines = lines.reset_index(drop=True)\n",
        "print(lines.head(10))"
      ]
    },
    {
      "cell_type": "code",
      "execution_count": null,
      "metadata": {
        "colab": {
          "base_uri": "https://localhost:8080/"
        },
        "id": "Yc_muRZKDVQO",
        "outputId": "8caac9e4-f7cd-44d9-8594-328944508f9c"
      },
      "outputs": [
        {
          "name": "stdout",
          "output_type": "stream",
          "text": [
            "Train shape: (272,)\n",
            "Test shape: (69,)\n"
          ]
        }
      ],
      "source": [
        "# ✂️ Train-test split\n",
        "from sklearn.model_selection import train_test_split\n",
        "X, y = lines['Angika'], lines['English']\n",
        "X_train, X_test, y_train, y_test = train_test_split(X, y, test_size=0.2, random_state=42)\n",
        "\n",
        "print(\"Train shape:\", X_train.shape)\n",
        "print(\"Test shape:\", X_test.shape)\n"
      ]
    },
    {
      "cell_type": "code",
      "execution_count": null,
      "metadata": {
        "id": "4WenpJFgDcOA"
      },
      "outputs": [],
      "source": [
        "# 💾 Save for future reuse\n",
        "X_train.to_pickle('X_train.pkl')\n",
        "X_test.to_pickle('X_test.pkl')"
      ]
    },
    {
      "cell_type": "code",
      "execution_count": null,
      "metadata": {
        "id": "U_5pPT0jD2gJ"
      },
      "outputs": [],
      "source": [
        "import numpy as np\n",
        "\n",
        "def generate_batch(X=X_train, y=y_train, batch_size=128):\n",
        "    '''Generate batches of (encoder_input, decoder_input), decoder_target'''\n",
        "    while True:\n",
        "        for j in range(0, len(X), batch_size):\n",
        "            # 👇 Get batch slice\n",
        "            X_batch = X[j:j+batch_size]\n",
        "            y_batch = y[j:j+batch_size]\n",
        "\n",
        "            # 👇 Dynamic batch size (for last batch which may be smaller)\n",
        "            current_batch_size = len(X_batch)\n",
        "\n",
        "            # 🧠 Initialize zero matrices\n",
        "            encoder_input_data = np.zeros((current_batch_size, max_length_src), dtype='float32')\n",
        "            decoder_input_data = np.zeros((current_batch_size, max_length_tar), dtype='float32')\n",
        "            decoder_target_data = np.zeros((current_batch_size, max_length_tar, num_decoder_tokens), dtype='float32')\n",
        "\n",
        "            for i, (input_text, target_text) in enumerate(zip(X_batch, y_batch)):\n",
        "                input_words = input_text.split()\n",
        "                target_words = target_text.split()\n",
        "\n",
        "                # 🔢 Fill encoder sequence\n",
        "                for t, word in enumerate(input_words):\n",
        "                    if word in input_token_index:\n",
        "                        encoder_input_data[i, t] = input_token_index[word]\n",
        "\n",
        "                # 🔢 Fill decoder input and target sequence\n",
        "                for t, word in enumerate(target_words):\n",
        "                    if word in target_token_index:\n",
        "                        if t < max_length_tar:\n",
        "                            decoder_input_data[i, t] = target_token_index[word]\n",
        "                        if t > 0 and (t - 1) < max_length_tar:\n",
        "                            # Target is ahead by 1 timestep\n",
        "                            decoder_target_data[i, t - 1, target_token_index[word]] = 1.0\n",
        "\n",
        "            yield ([encoder_input_data, decoder_input_data], decoder_target_data)\n"
      ]
    },
    {
      "cell_type": "code",
      "execution_count": null,
      "metadata": {
        "colab": {
          "base_uri": "https://localhost:8080/",
          "height": 595
        },
        "id": "T8xftOtqD7hw",
        "outputId": "1e8d6cf1-1ae1-4f4a-d951-39e970a1333f"
      },
      "outputs": [
        {
          "data": {
            "text/html": [
              "<pre style=\"white-space:pre;overflow-x:auto;line-height:normal;font-family:Menlo,'DejaVu Sans Mono',consolas,'Courier New',monospace\"><span style=\"font-weight: bold\">Model: \"functional_1\"</span>\n",
              "</pre>\n"
            ],
            "text/plain": [
              "\u001b[1mModel: \"functional_1\"\u001b[0m\n"
            ]
          },
          "metadata": {},
          "output_type": "display_data"
        },
        {
          "data": {
            "text/html": [
              "<pre style=\"white-space:pre;overflow-x:auto;line-height:normal;font-family:Menlo,'DejaVu Sans Mono',consolas,'Courier New',monospace\">┏━━━━━━━━━━━━━━━━━━━━━┳━━━━━━━━━━━━━━━━━━━┳━━━━━━━━━━━━┳━━━━━━━━━━━━━━━━━━━┓\n",
              "┃<span style=\"font-weight: bold\"> Layer (type)        </span>┃<span style=\"font-weight: bold\"> Output Shape      </span>┃<span style=\"font-weight: bold\">    Param # </span>┃<span style=\"font-weight: bold\"> Connected to      </span>┃\n",
              "┡━━━━━━━━━━━━━━━━━━━━━╇━━━━━━━━━━━━━━━━━━━╇━━━━━━━━━━━━╇━━━━━━━━━━━━━━━━━━━┩\n",
              "│ encoder_inputs      │ (<span style=\"color: #00d7ff; text-decoration-color: #00d7ff\">None</span>, <span style=\"color: #00d7ff; text-decoration-color: #00d7ff\">None</span>)      │          <span style=\"color: #00af00; text-decoration-color: #00af00\">0</span> │ -                 │\n",
              "│ (<span style=\"color: #0087ff; text-decoration-color: #0087ff\">InputLayer</span>)        │                   │            │                   │\n",
              "├─────────────────────┼───────────────────┼────────────┼───────────────────┤\n",
              "│ decoder_inputs      │ (<span style=\"color: #00d7ff; text-decoration-color: #00d7ff\">None</span>, <span style=\"color: #00d7ff; text-decoration-color: #00d7ff\">None</span>)      │          <span style=\"color: #00af00; text-decoration-color: #00af00\">0</span> │ -                 │\n",
              "│ (<span style=\"color: #0087ff; text-decoration-color: #0087ff\">InputLayer</span>)        │                   │            │                   │\n",
              "├─────────────────────┼───────────────────┼────────────┼───────────────────┤\n",
              "│ encoder_embedding   │ (<span style=\"color: #00d7ff; text-decoration-color: #00d7ff\">None</span>, <span style=\"color: #00d7ff; text-decoration-color: #00d7ff\">None</span>, <span style=\"color: #00af00; text-decoration-color: #00af00\">300</span>) │    <span style=\"color: #00af00; text-decoration-color: #00af00\">447,300</span> │ encoder_inputs[<span style=\"color: #00af00; text-decoration-color: #00af00\">0</span>… │\n",
              "│ (<span style=\"color: #0087ff; text-decoration-color: #0087ff\">Embedding</span>)         │                   │            │                   │\n",
              "├─────────────────────┼───────────────────┼────────────┼───────────────────┤\n",
              "│ not_equal_2         │ (<span style=\"color: #00d7ff; text-decoration-color: #00d7ff\">None</span>, <span style=\"color: #00d7ff; text-decoration-color: #00d7ff\">None</span>)      │          <span style=\"color: #00af00; text-decoration-color: #00af00\">0</span> │ encoder_inputs[<span style=\"color: #00af00; text-decoration-color: #00af00\">0</span>… │\n",
              "│ (<span style=\"color: #0087ff; text-decoration-color: #0087ff\">NotEqual</span>)          │                   │            │                   │\n",
              "├─────────────────────┼───────────────────┼────────────┼───────────────────┤\n",
              "│ decoder_embedding   │ (<span style=\"color: #00d7ff; text-decoration-color: #00d7ff\">None</span>, <span style=\"color: #00d7ff; text-decoration-color: #00d7ff\">None</span>, <span style=\"color: #00af00; text-decoration-color: #00af00\">300</span>) │    <span style=\"color: #00af00; text-decoration-color: #00af00\">469,800</span> │ decoder_inputs[<span style=\"color: #00af00; text-decoration-color: #00af00\">0</span>… │\n",
              "│ (<span style=\"color: #0087ff; text-decoration-color: #0087ff\">Embedding</span>)         │                   │            │                   │\n",
              "├─────────────────────┼───────────────────┼────────────┼───────────────────┤\n",
              "│ encoder_lstm (<span style=\"color: #0087ff; text-decoration-color: #0087ff\">LSTM</span>) │ [(<span style=\"color: #00d7ff; text-decoration-color: #00d7ff\">None</span>, <span style=\"color: #00af00; text-decoration-color: #00af00\">300</span>),     │    <span style=\"color: #00af00; text-decoration-color: #00af00\">721,200</span> │ encoder_embeddin… │\n",
              "│                     │ (<span style=\"color: #00d7ff; text-decoration-color: #00d7ff\">None</span>, <span style=\"color: #00af00; text-decoration-color: #00af00\">300</span>),      │            │ not_equal_2[<span style=\"color: #00af00; text-decoration-color: #00af00\">0</span>][<span style=\"color: #00af00; text-decoration-color: #00af00\">0</span>] │\n",
              "│                     │ (<span style=\"color: #00d7ff; text-decoration-color: #00d7ff\">None</span>, <span style=\"color: #00af00; text-decoration-color: #00af00\">300</span>)]      │            │                   │\n",
              "├─────────────────────┼───────────────────┼────────────┼───────────────────┤\n",
              "│ decoder_lstm (<span style=\"color: #0087ff; text-decoration-color: #0087ff\">LSTM</span>) │ [(<span style=\"color: #00d7ff; text-decoration-color: #00d7ff\">None</span>, <span style=\"color: #00d7ff; text-decoration-color: #00d7ff\">None</span>,     │    <span style=\"color: #00af00; text-decoration-color: #00af00\">721,200</span> │ decoder_embeddin… │\n",
              "│                     │ <span style=\"color: #00af00; text-decoration-color: #00af00\">300</span>), (<span style=\"color: #00d7ff; text-decoration-color: #00d7ff\">None</span>,      │            │ encoder_lstm[<span style=\"color: #00af00; text-decoration-color: #00af00\">0</span>][<span style=\"color: #00af00; text-decoration-color: #00af00\">…</span> │\n",
              "│                     │ <span style=\"color: #00af00; text-decoration-color: #00af00\">300</span>), (<span style=\"color: #00d7ff; text-decoration-color: #00d7ff\">None</span>,      │            │ encoder_lstm[<span style=\"color: #00af00; text-decoration-color: #00af00\">0</span>][<span style=\"color: #00af00; text-decoration-color: #00af00\">…</span> │\n",
              "│                     │ <span style=\"color: #00af00; text-decoration-color: #00af00\">300</span>)]             │            │                   │\n",
              "├─────────────────────┼───────────────────┼────────────┼───────────────────┤\n",
              "│ decoder_output      │ (<span style=\"color: #00d7ff; text-decoration-color: #00d7ff\">None</span>, <span style=\"color: #00d7ff; text-decoration-color: #00d7ff\">None</span>,      │    <span style=\"color: #00af00; text-decoration-color: #00af00\">471,065</span> │ decoder_lstm[<span style=\"color: #00af00; text-decoration-color: #00af00\">0</span>][<span style=\"color: #00af00; text-decoration-color: #00af00\">…</span> │\n",
              "│ (<span style=\"color: #0087ff; text-decoration-color: #0087ff\">Dense</span>)             │ <span style=\"color: #00af00; text-decoration-color: #00af00\">1565</span>)             │            │                   │\n",
              "└─────────────────────┴───────────────────┴────────────┴───────────────────┘\n",
              "</pre>\n"
            ],
            "text/plain": [
              "┏━━━━━━━━━━━━━━━━━━━━━┳━━━━━━━━━━━━━━━━━━━┳━━━━━━━━━━━━┳━━━━━━━━━━━━━━━━━━━┓\n",
              "┃\u001b[1m \u001b[0m\u001b[1mLayer (type)       \u001b[0m\u001b[1m \u001b[0m┃\u001b[1m \u001b[0m\u001b[1mOutput Shape     \u001b[0m\u001b[1m \u001b[0m┃\u001b[1m \u001b[0m\u001b[1m   Param #\u001b[0m\u001b[1m \u001b[0m┃\u001b[1m \u001b[0m\u001b[1mConnected to     \u001b[0m\u001b[1m \u001b[0m┃\n",
              "┡━━━━━━━━━━━━━━━━━━━━━╇━━━━━━━━━━━━━━━━━━━╇━━━━━━━━━━━━╇━━━━━━━━━━━━━━━━━━━┩\n",
              "│ encoder_inputs      │ (\u001b[38;5;45mNone\u001b[0m, \u001b[38;5;45mNone\u001b[0m)      │          \u001b[38;5;34m0\u001b[0m │ -                 │\n",
              "│ (\u001b[38;5;33mInputLayer\u001b[0m)        │                   │            │                   │\n",
              "├─────────────────────┼───────────────────┼────────────┼───────────────────┤\n",
              "│ decoder_inputs      │ (\u001b[38;5;45mNone\u001b[0m, \u001b[38;5;45mNone\u001b[0m)      │          \u001b[38;5;34m0\u001b[0m │ -                 │\n",
              "│ (\u001b[38;5;33mInputLayer\u001b[0m)        │                   │            │                   │\n",
              "├─────────────────────┼───────────────────┼────────────┼───────────────────┤\n",
              "│ encoder_embedding   │ (\u001b[38;5;45mNone\u001b[0m, \u001b[38;5;45mNone\u001b[0m, \u001b[38;5;34m300\u001b[0m) │    \u001b[38;5;34m447,300\u001b[0m │ encoder_inputs[\u001b[38;5;34m0\u001b[0m… │\n",
              "│ (\u001b[38;5;33mEmbedding\u001b[0m)         │                   │            │                   │\n",
              "├─────────────────────┼───────────────────┼────────────┼───────────────────┤\n",
              "│ not_equal_2         │ (\u001b[38;5;45mNone\u001b[0m, \u001b[38;5;45mNone\u001b[0m)      │          \u001b[38;5;34m0\u001b[0m │ encoder_inputs[\u001b[38;5;34m0\u001b[0m… │\n",
              "│ (\u001b[38;5;33mNotEqual\u001b[0m)          │                   │            │                   │\n",
              "├─────────────────────┼───────────────────┼────────────┼───────────────────┤\n",
              "│ decoder_embedding   │ (\u001b[38;5;45mNone\u001b[0m, \u001b[38;5;45mNone\u001b[0m, \u001b[38;5;34m300\u001b[0m) │    \u001b[38;5;34m469,800\u001b[0m │ decoder_inputs[\u001b[38;5;34m0\u001b[0m… │\n",
              "│ (\u001b[38;5;33mEmbedding\u001b[0m)         │                   │            │                   │\n",
              "├─────────────────────┼───────────────────┼────────────┼───────────────────┤\n",
              "│ encoder_lstm (\u001b[38;5;33mLSTM\u001b[0m) │ [(\u001b[38;5;45mNone\u001b[0m, \u001b[38;5;34m300\u001b[0m),     │    \u001b[38;5;34m721,200\u001b[0m │ encoder_embeddin… │\n",
              "│                     │ (\u001b[38;5;45mNone\u001b[0m, \u001b[38;5;34m300\u001b[0m),      │            │ not_equal_2[\u001b[38;5;34m0\u001b[0m][\u001b[38;5;34m0\u001b[0m] │\n",
              "│                     │ (\u001b[38;5;45mNone\u001b[0m, \u001b[38;5;34m300\u001b[0m)]      │            │                   │\n",
              "├─────────────────────┼───────────────────┼────────────┼───────────────────┤\n",
              "│ decoder_lstm (\u001b[38;5;33mLSTM\u001b[0m) │ [(\u001b[38;5;45mNone\u001b[0m, \u001b[38;5;45mNone\u001b[0m,     │    \u001b[38;5;34m721,200\u001b[0m │ decoder_embeddin… │\n",
              "│                     │ \u001b[38;5;34m300\u001b[0m), (\u001b[38;5;45mNone\u001b[0m,      │            │ encoder_lstm[\u001b[38;5;34m0\u001b[0m][\u001b[38;5;34m…\u001b[0m │\n",
              "│                     │ \u001b[38;5;34m300\u001b[0m), (\u001b[38;5;45mNone\u001b[0m,      │            │ encoder_lstm[\u001b[38;5;34m0\u001b[0m][\u001b[38;5;34m…\u001b[0m │\n",
              "│                     │ \u001b[38;5;34m300\u001b[0m)]             │            │                   │\n",
              "├─────────────────────┼───────────────────┼────────────┼───────────────────┤\n",
              "│ decoder_output      │ (\u001b[38;5;45mNone\u001b[0m, \u001b[38;5;45mNone\u001b[0m,      │    \u001b[38;5;34m471,065\u001b[0m │ decoder_lstm[\u001b[38;5;34m0\u001b[0m][\u001b[38;5;34m…\u001b[0m │\n",
              "│ (\u001b[38;5;33mDense\u001b[0m)             │ \u001b[38;5;34m1565\u001b[0m)             │            │                   │\n",
              "└─────────────────────┴───────────────────┴────────────┴───────────────────┘\n"
            ]
          },
          "metadata": {},
          "output_type": "display_data"
        },
        {
          "data": {
            "text/html": [
              "<pre style=\"white-space:pre;overflow-x:auto;line-height:normal;font-family:Menlo,'DejaVu Sans Mono',consolas,'Courier New',monospace\"><span style=\"font-weight: bold\"> Total params: </span><span style=\"color: #00af00; text-decoration-color: #00af00\">2,830,565</span> (10.80 MB)\n",
              "</pre>\n"
            ],
            "text/plain": [
              "\u001b[1m Total params: \u001b[0m\u001b[38;5;34m2,830,565\u001b[0m (10.80 MB)\n"
            ]
          },
          "metadata": {},
          "output_type": "display_data"
        },
        {
          "data": {
            "text/html": [
              "<pre style=\"white-space:pre;overflow-x:auto;line-height:normal;font-family:Menlo,'DejaVu Sans Mono',consolas,'Courier New',monospace\"><span style=\"font-weight: bold\"> Trainable params: </span><span style=\"color: #00af00; text-decoration-color: #00af00\">2,830,565</span> (10.80 MB)\n",
              "</pre>\n"
            ],
            "text/plain": [
              "\u001b[1m Trainable params: \u001b[0m\u001b[38;5;34m2,830,565\u001b[0m (10.80 MB)\n"
            ]
          },
          "metadata": {},
          "output_type": "display_data"
        },
        {
          "data": {
            "text/html": [
              "<pre style=\"white-space:pre;overflow-x:auto;line-height:normal;font-family:Menlo,'DejaVu Sans Mono',consolas,'Courier New',monospace\"><span style=\"font-weight: bold\"> Non-trainable params: </span><span style=\"color: #00af00; text-decoration-color: #00af00\">0</span> (0.00 B)\n",
              "</pre>\n"
            ],
            "text/plain": [
              "\u001b[1m Non-trainable params: \u001b[0m\u001b[38;5;34m0\u001b[0m (0.00 B)\n"
            ]
          },
          "metadata": {},
          "output_type": "display_data"
        }
      ],
      "source": [
        "from tensorflow.keras.models import Model\n",
        "from tensorflow.keras.layers import Input, LSTM, Embedding, Dense\n",
        "\n",
        "latent_dim = 300  # LSTM units (dimensionality of hidden state)\n",
        "\n",
        "# 🔷 Encoder\n",
        "encoder_inputs = Input(shape=(None,), name='encoder_inputs')\n",
        "enc_emb = Embedding(input_dim=num_encoder_tokens + 1, output_dim=latent_dim, mask_zero=True, name='encoder_embedding')(encoder_inputs)\n",
        "encoder_lstm = LSTM(latent_dim, return_state=True, name='encoder_lstm')\n",
        "_, state_h, state_c = encoder_lstm(enc_emb)\n",
        "encoder_states = [state_h, state_c]\n",
        "\n",
        "# 🔶 Decoder\n",
        "decoder_inputs = Input(shape=(None,), name='decoder_inputs')\n",
        "dec_emb_layer = Embedding(input_dim=num_decoder_tokens + 1, output_dim=latent_dim, mask_zero=True, name='decoder_embedding')\n",
        "dec_emb = dec_emb_layer(decoder_inputs)\n",
        "decoder_lstm = LSTM(latent_dim, return_sequences=True, return_state=True, name='decoder_lstm')\n",
        "decoder_outputs, _, _ = decoder_lstm(dec_emb, initial_state=encoder_states)\n",
        "decoder_dense = Dense(num_decoder_tokens, activation='softmax', name='decoder_output')\n",
        "decoder_outputs = decoder_dense(decoder_outputs)\n",
        "\n",
        "# 🔧 Full Model\n",
        "model = Model([encoder_inputs, decoder_inputs], decoder_outputs)\n",
        "\n",
        "# 🧠 Compile\n",
        "model.compile(optimizer='rmsprop', loss='categorical_crossentropy', metrics=['accuracy'])\n",
        "\n",
        "# 📝 Summary\n",
        "model.summary()\n"
      ]
    },
    {
      "cell_type": "code",
      "execution_count": null,
      "metadata": {
        "colab": {
          "base_uri": "https://localhost:8080/"
        },
        "id": "n3U9Rxw6ESZz",
        "outputId": "85b08425-df27-426a-9fec-4ef4a9794851"
      },
      "outputs": [
        {
          "name": "stdout",
          "output_type": "stream",
          "text": [
            "272\n",
            "69\n"
          ]
        }
      ],
      "source": [
        "train_samples = len(X_train)\n",
        "print(train_samples)\n",
        "val_samples = len(X_test)\n",
        "print(val_samples)\n",
        "batch_size =8\n",
        "epochs = 100"
      ]
    },
    {
      "cell_type": "code",
      "execution_count": null,
      "metadata": {
        "colab": {
          "base_uri": "https://localhost:8080/"
        },
        "id": "Uzok2Geqt-My",
        "outputId": "b98b86f6-5e0b-4ed0-c783-d09641c8b750"
      },
      "outputs": [
        {
          "name": "stdout",
          "output_type": "stream",
          "text": [
            "Epoch 1/100\n",
            "\u001b[1m34/34\u001b[0m \u001b[32m━━━━━━━━━━━━━━━━━━━━\u001b[0m\u001b[37m\u001b[0m \u001b[1m41s\u001b[0m 285ms/step - accuracy: 0.0441 - loss: 6.3530 - val_accuracy: 0.0500 - val_loss: 5.6472\n",
            "Epoch 2/100\n",
            "\u001b[1m34/34\u001b[0m \u001b[32m━━━━━━━━━━━━━━━━━━━━\u001b[0m\u001b[37m\u001b[0m \u001b[1m2s\u001b[0m 69ms/step - accuracy: 0.0514 - loss: 5.4610 - val_accuracy: 0.0710 - val_loss: 5.5874\n",
            "Epoch 3/100\n",
            "\u001b[1m34/34\u001b[0m \u001b[32m━━━━━━━━━━━━━━━━━━━━\u001b[0m\u001b[37m\u001b[0m \u001b[1m0s\u001b[0m 11ms/step - accuracy: 0.0608 - loss: 5.2166 - val_accuracy: 0.0725 - val_loss: 5.6188\n",
            "Epoch 4/100\n",
            "\u001b[1m34/34\u001b[0m \u001b[32m━━━━━━━━━━━━━━━━━━━━\u001b[0m\u001b[37m\u001b[0m \u001b[1m1s\u001b[0m 19ms/step - accuracy: 0.0644 - loss: 5.1214 - val_accuracy: 0.0725 - val_loss: 5.6547\n",
            "Epoch 5/100\n",
            "\u001b[1m34/34\u001b[0m \u001b[32m━━━━━━━━━━━━━━━━━━━━\u001b[0m\u001b[37m\u001b[0m \u001b[1m0s\u001b[0m 10ms/step - accuracy: 0.0650 - loss: 5.0587 - val_accuracy: 0.0725 - val_loss: 5.6912\n",
            "Epoch 6/100\n",
            "\u001b[1m34/34\u001b[0m \u001b[32m━━━━━━━━━━━━━━━━━━━━\u001b[0m\u001b[37m\u001b[0m \u001b[1m0s\u001b[0m 9ms/step - accuracy: 0.0642 - loss: 5.0066 - val_accuracy: 0.0732 - val_loss: 5.7194\n",
            "Epoch 7/100\n",
            "\u001b[1m34/34\u001b[0m \u001b[32m━━━━━━━━━━━━━━━━━━━━\u001b[0m\u001b[37m\u001b[0m \u001b[1m0s\u001b[0m 9ms/step - accuracy: 0.0645 - loss: 4.9553 - val_accuracy: 0.0746 - val_loss: 5.7361\n",
            "Epoch 8/100\n",
            "\u001b[1m34/34\u001b[0m \u001b[32m━━━━━━━━━━━━━━━━━━━━\u001b[0m\u001b[37m\u001b[0m \u001b[1m0s\u001b[0m 8ms/step - accuracy: 0.0646 - loss: 4.9045 - val_accuracy: 0.0732 - val_loss: 5.7438\n",
            "Epoch 9/100\n",
            "\u001b[1m34/34\u001b[0m \u001b[32m━━━━━━━━━━━━━━━━━━━━\u001b[0m\u001b[37m\u001b[0m \u001b[1m0s\u001b[0m 9ms/step - accuracy: 0.0650 - loss: 4.8482 - val_accuracy: 0.0674 - val_loss: 5.7493\n",
            "Epoch 10/100\n",
            "\u001b[1m34/34\u001b[0m \u001b[32m━━━━━━━━━━━━━━━━━━━━\u001b[0m\u001b[37m\u001b[0m \u001b[1m0s\u001b[0m 9ms/step - accuracy: 0.0645 - loss: 4.7838 - val_accuracy: 0.0674 - val_loss: 5.7541\n",
            "Epoch 11/100\n",
            "\u001b[1m34/34\u001b[0m \u001b[32m━━━━━━━━━━━━━━━━━━━━\u001b[0m\u001b[37m\u001b[0m \u001b[1m0s\u001b[0m 8ms/step - accuracy: 0.0657 - loss: 4.7130 - val_accuracy: 0.0667 - val_loss: 5.7640\n",
            "Epoch 12/100\n",
            "\u001b[1m34/34\u001b[0m \u001b[32m━━━━━━━━━━━━━━━━━━━━\u001b[0m\u001b[37m\u001b[0m \u001b[1m0s\u001b[0m 8ms/step - accuracy: 0.0662 - loss: 4.6434 - val_accuracy: 0.0674 - val_loss: 5.7709\n",
            "Epoch 13/100\n",
            "\u001b[1m34/34\u001b[0m \u001b[32m━━━━━━━━━━━━━━━━━━━━\u001b[0m\u001b[37m\u001b[0m \u001b[1m0s\u001b[0m 8ms/step - accuracy: 0.0666 - loss: 4.5680 - val_accuracy: 0.0696 - val_loss: 5.7780\n",
            "Epoch 14/100\n",
            "\u001b[1m34/34\u001b[0m \u001b[32m━━━━━━━━━━━━━━━━━━━━\u001b[0m\u001b[37m\u001b[0m \u001b[1m0s\u001b[0m 8ms/step - accuracy: 0.0687 - loss: 4.4874 - val_accuracy: 0.0703 - val_loss: 5.7877\n",
            "Epoch 15/100\n",
            "\u001b[1m34/34\u001b[0m \u001b[32m━━━━━━━━━━━━━━━━━━━━\u001b[0m\u001b[37m\u001b[0m \u001b[1m0s\u001b[0m 9ms/step - accuracy: 0.0680 - loss: 4.4062 - val_accuracy: 0.0710 - val_loss: 5.8003\n",
            "Epoch 16/100\n",
            "\u001b[1m34/34\u001b[0m \u001b[32m━━━━━━━━━━━━━━━━━━━━\u001b[0m\u001b[37m\u001b[0m \u001b[1m0s\u001b[0m 8ms/step - accuracy: 0.0691 - loss: 4.3320 - val_accuracy: 0.0703 - val_loss: 5.8080\n",
            "Epoch 17/100\n",
            "\u001b[1m34/34\u001b[0m \u001b[32m━━━━━━━━━━━━━━━━━━━━\u001b[0m\u001b[37m\u001b[0m \u001b[1m0s\u001b[0m 8ms/step - accuracy: 0.0703 - loss: 4.2424 - val_accuracy: 0.0717 - val_loss: 5.8180\n",
            "Epoch 18/100\n",
            "\u001b[1m34/34\u001b[0m \u001b[32m━━━━━━━━━━━━━━━━━━━━\u001b[0m\u001b[37m\u001b[0m \u001b[1m0s\u001b[0m 8ms/step - accuracy: 0.0715 - loss: 4.1764 - val_accuracy: 0.0725 - val_loss: 5.8440\n",
            "Epoch 19/100\n",
            "\u001b[1m34/34\u001b[0m \u001b[32m━━━━━━━━━━━━━━━━━━━━\u001b[0m\u001b[37m\u001b[0m \u001b[1m0s\u001b[0m 8ms/step - accuracy: 0.0742 - loss: 4.0886 - val_accuracy: 0.0725 - val_loss: 5.8604\n",
            "Epoch 20/100\n",
            "\u001b[1m34/34\u001b[0m \u001b[32m━━━━━━━━━━━━━━━━━━━━\u001b[0m\u001b[37m\u001b[0m \u001b[1m0s\u001b[0m 8ms/step - accuracy: 0.0743 - loss: 4.0199 - val_accuracy: 0.0732 - val_loss: 5.8961\n",
            "Epoch 21/100\n",
            "\u001b[1m34/34\u001b[0m \u001b[32m━━━━━━━━━━━━━━━━━━━━\u001b[0m\u001b[37m\u001b[0m \u001b[1m0s\u001b[0m 9ms/step - accuracy: 0.0760 - loss: 3.9463 - val_accuracy: 0.0732 - val_loss: 5.9131\n",
            "Epoch 22/100\n",
            "\u001b[1m34/34\u001b[0m \u001b[32m━━━━━━━━━━━━━━━━━━━━\u001b[0m\u001b[37m\u001b[0m \u001b[1m0s\u001b[0m 8ms/step - accuracy: 0.0767 - loss: 3.8739 - val_accuracy: 0.0746 - val_loss: 5.9382\n",
            "Epoch 23/100\n",
            "\u001b[1m34/34\u001b[0m \u001b[32m━━━━━━━━━━━━━━━━━━━━\u001b[0m\u001b[37m\u001b[0m \u001b[1m0s\u001b[0m 9ms/step - accuracy: 0.0778 - loss: 3.8156 - val_accuracy: 0.0732 - val_loss: 5.9728\n",
            "Epoch 24/100\n",
            "\u001b[1m34/34\u001b[0m \u001b[32m━━━━━━━━━━━━━━━━━━━━\u001b[0m\u001b[37m\u001b[0m \u001b[1m0s\u001b[0m 9ms/step - accuracy: 0.0771 - loss: 3.7600 - val_accuracy: 0.0739 - val_loss: 5.9808\n",
            "Epoch 25/100\n",
            "\u001b[1m34/34\u001b[0m \u001b[32m━━━━━━━━━━━━━━━━━━━━\u001b[0m\u001b[37m\u001b[0m \u001b[1m0s\u001b[0m 8ms/step - accuracy: 0.0794 - loss: 3.6684 - val_accuracy: 0.0746 - val_loss: 5.9989\n",
            "Epoch 26/100\n",
            "\u001b[1m34/34\u001b[0m \u001b[32m━━━━━━━━━━━━━━━━━━━━\u001b[0m\u001b[37m\u001b[0m \u001b[1m0s\u001b[0m 9ms/step - accuracy: 0.0797 - loss: 3.6095 - val_accuracy: 0.0746 - val_loss: 6.0308\n",
            "Epoch 27/100\n",
            "\u001b[1m34/34\u001b[0m \u001b[32m━━━━━━━━━━━━━━━━━━━━\u001b[0m\u001b[37m\u001b[0m \u001b[1m0s\u001b[0m 9ms/step - accuracy: 0.0812 - loss: 3.5421 - val_accuracy: 0.0739 - val_loss: 6.0632\n",
            "Epoch 28/100\n",
            "\u001b[1m34/34\u001b[0m \u001b[32m━━━━━━━━━━━━━━━━━━━━\u001b[0m\u001b[37m\u001b[0m \u001b[1m0s\u001b[0m 8ms/step - accuracy: 0.0849 - loss: 3.4723 - val_accuracy: 0.0732 - val_loss: 6.0672\n",
            "Epoch 29/100\n",
            "\u001b[1m34/34\u001b[0m \u001b[32m━━━━━━━━━━━━━━━━━━━━\u001b[0m\u001b[37m\u001b[0m \u001b[1m0s\u001b[0m 8ms/step - accuracy: 0.0865 - loss: 3.4388 - val_accuracy: 0.0732 - val_loss: 6.1081\n",
            "Epoch 30/100\n",
            "\u001b[1m34/34\u001b[0m \u001b[32m━━━━━━━━━━━━━━━━━━━━\u001b[0m\u001b[37m\u001b[0m \u001b[1m0s\u001b[0m 9ms/step - accuracy: 0.0877 - loss: 3.3707 - val_accuracy: 0.0739 - val_loss: 6.1332\n",
            "Epoch 31/100\n",
            "\u001b[1m34/34\u001b[0m \u001b[32m━━━━━━━━━━━━━━━━━━━━\u001b[0m\u001b[37m\u001b[0m \u001b[1m0s\u001b[0m 8ms/step - accuracy: 0.0869 - loss: 3.3191 - val_accuracy: 0.0732 - val_loss: 6.1394\n",
            "Epoch 32/100\n",
            "\u001b[1m34/34\u001b[0m \u001b[32m━━━━━━━━━━━━━━━━━━━━\u001b[0m\u001b[37m\u001b[0m \u001b[1m0s\u001b[0m 9ms/step - accuracy: 0.0930 - loss: 3.2608 - val_accuracy: 0.0710 - val_loss: 6.1779\n",
            "Epoch 33/100\n",
            "\u001b[1m34/34\u001b[0m \u001b[32m━━━━━━━━━━━━━━━━━━━━\u001b[0m\u001b[37m\u001b[0m \u001b[1m0s\u001b[0m 8ms/step - accuracy: 0.0944 - loss: 3.2125 - val_accuracy: 0.0696 - val_loss: 6.1910\n",
            "Epoch 34/100\n",
            "\u001b[1m34/34\u001b[0m \u001b[32m━━━━━━━━━━━━━━━━━━━━\u001b[0m\u001b[37m\u001b[0m \u001b[1m0s\u001b[0m 10ms/step - accuracy: 0.0980 - loss: 3.1467 - val_accuracy: 0.0725 - val_loss: 6.1902\n",
            "Epoch 35/100\n",
            "\u001b[1m34/34\u001b[0m \u001b[32m━━━━━━━━━━━━━━━━━━━━\u001b[0m\u001b[37m\u001b[0m \u001b[1m0s\u001b[0m 11ms/step - accuracy: 0.1010 - loss: 3.0851 - val_accuracy: 0.0732 - val_loss: 6.2030\n",
            "Epoch 36/100\n",
            "\u001b[1m34/34\u001b[0m \u001b[32m━━━━━━━━━━━━━━━━━━━━\u001b[0m\u001b[37m\u001b[0m \u001b[1m0s\u001b[0m 10ms/step - accuracy: 0.1029 - loss: 3.0352 - val_accuracy: 0.0725 - val_loss: 6.2543\n",
            "Epoch 37/100\n",
            "\u001b[1m34/34\u001b[0m \u001b[32m━━━━━━━━━━━━━━━━━━━━\u001b[0m\u001b[37m\u001b[0m \u001b[1m1s\u001b[0m 19ms/step - accuracy: 0.1070 - loss: 2.9771 - val_accuracy: 0.0732 - val_loss: 6.2610\n",
            "Epoch 38/100\n",
            "\u001b[1m34/34\u001b[0m \u001b[32m━━━━━━━━━━━━━━━━━━━━\u001b[0m\u001b[37m\u001b[0m \u001b[1m0s\u001b[0m 11ms/step - accuracy: 0.1083 - loss: 2.9489 - val_accuracy: 0.0688 - val_loss: 6.3057\n",
            "Epoch 39/100\n",
            "\u001b[1m34/34\u001b[0m \u001b[32m━━━━━━━━━━━━━━━━━━━━\u001b[0m\u001b[37m\u001b[0m \u001b[1m0s\u001b[0m 11ms/step - accuracy: 0.1126 - loss: 2.8847 - val_accuracy: 0.0696 - val_loss: 6.3847\n",
            "Epoch 40/100\n",
            "\u001b[1m34/34\u001b[0m \u001b[32m━━━━━━━━━━━━━━━━━━━━\u001b[0m\u001b[37m\u001b[0m \u001b[1m1s\u001b[0m 19ms/step - accuracy: 0.1142 - loss: 2.8466 - val_accuracy: 0.0659 - val_loss: 6.3844\n",
            "Epoch 41/100\n",
            "\u001b[1m34/34\u001b[0m \u001b[32m━━━━━━━━━━━━━━━━━━━━\u001b[0m\u001b[37m\u001b[0m \u001b[1m1s\u001b[0m 18ms/step - accuracy: 0.1243 - loss: 2.7856 - val_accuracy: 0.0674 - val_loss: 6.4403\n",
            "Epoch 42/100\n",
            "\u001b[1m34/34\u001b[0m \u001b[32m━━━━━━━━━━━━━━━━━━━━\u001b[0m\u001b[37m\u001b[0m \u001b[1m0s\u001b[0m 9ms/step - accuracy: 0.1233 - loss: 2.7590 - val_accuracy: 0.0645 - val_loss: 6.4222\n",
            "Epoch 43/100\n",
            "\u001b[1m34/34\u001b[0m \u001b[32m━━━━━━━━━━━━━━━━━━━━\u001b[0m\u001b[37m\u001b[0m \u001b[1m0s\u001b[0m 9ms/step - accuracy: 0.1338 - loss: 2.6733 - val_accuracy: 0.0710 - val_loss: 6.4837\n",
            "Epoch 44/100\n",
            "\u001b[1m34/34\u001b[0m \u001b[32m━━━━━━━━━━━━━━━━━━━━\u001b[0m\u001b[37m\u001b[0m \u001b[1m0s\u001b[0m 9ms/step - accuracy: 0.1309 - loss: 2.6611 - val_accuracy: 0.0601 - val_loss: 6.5179\n",
            "Epoch 45/100\n",
            "\u001b[1m34/34\u001b[0m \u001b[32m━━━━━━━━━━━━━━━━━━━━\u001b[0m\u001b[37m\u001b[0m \u001b[1m0s\u001b[0m 9ms/step - accuracy: 0.1416 - loss: 2.5999 - val_accuracy: 0.0652 - val_loss: 6.5500\n",
            "Epoch 46/100\n",
            "\u001b[1m34/34\u001b[0m \u001b[32m━━━━━━━━━━━━━━━━━━━━\u001b[0m\u001b[37m\u001b[0m \u001b[1m0s\u001b[0m 8ms/step - accuracy: 0.1419 - loss: 2.5702 - val_accuracy: 0.0616 - val_loss: 6.5844\n",
            "Epoch 47/100\n",
            "\u001b[1m34/34\u001b[0m \u001b[32m━━━━━━━━━━━━━━━━━━━━\u001b[0m\u001b[37m\u001b[0m \u001b[1m0s\u001b[0m 9ms/step - accuracy: 0.1532 - loss: 2.4868 - val_accuracy: 0.0630 - val_loss: 6.5605\n",
            "Epoch 48/100\n",
            "\u001b[1m34/34\u001b[0m \u001b[32m━━━━━━━━━━━━━━━━━━━━\u001b[0m\u001b[37m\u001b[0m \u001b[1m0s\u001b[0m 8ms/step - accuracy: 0.1558 - loss: 2.4312 - val_accuracy: 0.0594 - val_loss: 6.6131\n",
            "Epoch 49/100\n",
            "\u001b[1m34/34\u001b[0m \u001b[32m━━━━━━━━━━━━━━━━━━━━\u001b[0m\u001b[37m\u001b[0m \u001b[1m0s\u001b[0m 8ms/step - accuracy: 0.1571 - loss: 2.4128 - val_accuracy: 0.0594 - val_loss: 6.6458\n",
            "Epoch 50/100\n",
            "\u001b[1m34/34\u001b[0m \u001b[32m━━━━━━━━━━━━━━━━━━━━\u001b[0m\u001b[37m\u001b[0m \u001b[1m0s\u001b[0m 8ms/step - accuracy: 0.1705 - loss: 2.3456 - val_accuracy: 0.0594 - val_loss: 6.6729\n",
            "Epoch 51/100\n",
            "\u001b[1m34/34\u001b[0m \u001b[32m━━━━━━━━━━━━━━━━━━━━\u001b[0m\u001b[37m\u001b[0m \u001b[1m0s\u001b[0m 9ms/step - accuracy: 0.1750 - loss: 2.2809 - val_accuracy: 0.0601 - val_loss: 6.6713\n",
            "Epoch 52/100\n",
            "\u001b[1m34/34\u001b[0m \u001b[32m━━━━━━━━━━━━━━━━━━━━\u001b[0m\u001b[37m\u001b[0m \u001b[1m0s\u001b[0m 8ms/step - accuracy: 0.1781 - loss: 2.2655 - val_accuracy: 0.0594 - val_loss: 6.7441\n",
            "Epoch 53/100\n",
            "\u001b[1m34/34\u001b[0m \u001b[32m━━━━━━━━━━━━━━━━━━━━\u001b[0m\u001b[37m\u001b[0m \u001b[1m0s\u001b[0m 8ms/step - accuracy: 0.1757 - loss: 2.2475 - val_accuracy: 0.0572 - val_loss: 6.8022\n",
            "Epoch 54/100\n",
            "\u001b[1m34/34\u001b[0m \u001b[32m━━━━━━━━━━━━━━━━━━━━\u001b[0m\u001b[37m\u001b[0m \u001b[1m0s\u001b[0m 8ms/step - accuracy: 0.1844 - loss: 2.2102 - val_accuracy: 0.0572 - val_loss: 6.8023\n",
            "Epoch 55/100\n",
            "\u001b[1m34/34\u001b[0m \u001b[32m━━━━━━━━━━━━━━━━━━━━\u001b[0m\u001b[37m\u001b[0m \u001b[1m0s\u001b[0m 9ms/step - accuracy: 0.1880 - loss: 2.1448 - val_accuracy: 0.0543 - val_loss: 6.8267\n",
            "Epoch 56/100\n",
            "\u001b[1m34/34\u001b[0m \u001b[32m━━━━━━━━━━━━━━━━━━━━\u001b[0m\u001b[37m\u001b[0m \u001b[1m0s\u001b[0m 8ms/step - accuracy: 0.1937 - loss: 2.0972 - val_accuracy: 0.0543 - val_loss: 6.8724\n",
            "Epoch 57/100\n",
            "\u001b[1m34/34\u001b[0m \u001b[32m━━━━━━━━━━━━━━━━━━━━\u001b[0m\u001b[37m\u001b[0m \u001b[1m0s\u001b[0m 9ms/step - accuracy: 0.1960 - loss: 2.0426 - val_accuracy: 0.0565 - val_loss: 6.8365\n",
            "Epoch 58/100\n",
            "\u001b[1m34/34\u001b[0m \u001b[32m━━━━━━━━━━━━━━━━━━━━\u001b[0m\u001b[37m\u001b[0m \u001b[1m0s\u001b[0m 8ms/step - accuracy: 0.2066 - loss: 2.0053 - val_accuracy: 0.0507 - val_loss: 6.9273\n",
            "Epoch 59/100\n",
            "\u001b[1m34/34\u001b[0m \u001b[32m━━━━━━━━━━━━━━━━━━━━\u001b[0m\u001b[37m\u001b[0m \u001b[1m0s\u001b[0m 8ms/step - accuracy: 0.2125 - loss: 1.9597 - val_accuracy: 0.0543 - val_loss: 6.9167\n",
            "Epoch 60/100\n",
            "\u001b[1m34/34\u001b[0m \u001b[32m━━━━━━━━━━━━━━━━━━━━\u001b[0m\u001b[37m\u001b[0m \u001b[1m0s\u001b[0m 9ms/step - accuracy: 0.2226 - loss: 1.8885 - val_accuracy: 0.0551 - val_loss: 6.9251\n",
            "Epoch 61/100\n",
            "\u001b[1m34/34\u001b[0m \u001b[32m━━━━━━━━━━━━━━━━━━━━\u001b[0m\u001b[37m\u001b[0m \u001b[1m0s\u001b[0m 8ms/step - accuracy: 0.2234 - loss: 1.8529 - val_accuracy: 0.0587 - val_loss: 6.9265\n",
            "Epoch 62/100\n",
            "\u001b[1m34/34\u001b[0m \u001b[32m━━━━━━━━━━━━━━━━━━━━\u001b[0m\u001b[37m\u001b[0m \u001b[1m0s\u001b[0m 9ms/step - accuracy: 0.2305 - loss: 1.8020 - val_accuracy: 0.0551 - val_loss: 6.9967\n",
            "Epoch 63/100\n",
            "\u001b[1m34/34\u001b[0m \u001b[32m━━━━━━━━━━━━━━━━━━━━\u001b[0m\u001b[37m\u001b[0m \u001b[1m0s\u001b[0m 8ms/step - accuracy: 0.2378 - loss: 1.7553 - val_accuracy: 0.0558 - val_loss: 7.0619\n",
            "Epoch 64/100\n",
            "\u001b[1m34/34\u001b[0m \u001b[32m━━━━━━━━━━━━━━━━━━━━\u001b[0m\u001b[37m\u001b[0m \u001b[1m0s\u001b[0m 9ms/step - accuracy: 0.2479 - loss: 1.6812 - val_accuracy: 0.0543 - val_loss: 7.0845\n",
            "Epoch 65/100\n",
            "\u001b[1m34/34\u001b[0m \u001b[32m━━━━━━━━━━━━━━━━━━━━\u001b[0m\u001b[37m\u001b[0m \u001b[1m0s\u001b[0m 8ms/step - accuracy: 0.2386 - loss: 1.6821 - val_accuracy: 0.0486 - val_loss: 7.1756\n",
            "Epoch 66/100\n",
            "\u001b[1m34/34\u001b[0m \u001b[32m━━━━━━━━━━━━━━━━━━━━\u001b[0m\u001b[37m\u001b[0m \u001b[1m0s\u001b[0m 9ms/step - accuracy: 0.2600 - loss: 1.5927 - val_accuracy: 0.0478 - val_loss: 7.2038\n",
            "Epoch 67/100\n",
            "\u001b[1m34/34\u001b[0m \u001b[32m━━━━━━━━━━━━━━━━━━━━\u001b[0m\u001b[37m\u001b[0m \u001b[1m0s\u001b[0m 8ms/step - accuracy: 0.2582 - loss: 1.5587 - val_accuracy: 0.0565 - val_loss: 7.1507\n",
            "Epoch 68/100\n",
            "\u001b[1m34/34\u001b[0m \u001b[32m━━━━━━━━━━━━━━━━━━━━\u001b[0m\u001b[37m\u001b[0m \u001b[1m0s\u001b[0m 9ms/step - accuracy: 0.2677 - loss: 1.5219 - val_accuracy: 0.0500 - val_loss: 7.2140\n",
            "Epoch 69/100\n",
            "\u001b[1m34/34\u001b[0m \u001b[32m━━━━━━━━━━━━━━━━━━━━\u001b[0m\u001b[37m\u001b[0m \u001b[1m0s\u001b[0m 8ms/step - accuracy: 0.2754 - loss: 1.4351 - val_accuracy: 0.0529 - val_loss: 7.2893\n",
            "Epoch 70/100\n",
            "\u001b[1m34/34\u001b[0m \u001b[32m━━━━━━━━━━━━━━━━━━━━\u001b[0m\u001b[37m\u001b[0m \u001b[1m0s\u001b[0m 8ms/step - accuracy: 0.2837 - loss: 1.3636 - val_accuracy: 0.0543 - val_loss: 7.2303\n",
            "Epoch 71/100\n",
            "\u001b[1m34/34\u001b[0m \u001b[32m━━━━━━━━━━━━━━━━━━━━\u001b[0m\u001b[37m\u001b[0m \u001b[1m0s\u001b[0m 9ms/step - accuracy: 0.2953 - loss: 1.2873 - val_accuracy: 0.0522 - val_loss: 7.2978\n",
            "Epoch 72/100\n",
            "\u001b[1m34/34\u001b[0m \u001b[32m━━━━━━━━━━━━━━━━━━━━\u001b[0m\u001b[37m\u001b[0m \u001b[1m0s\u001b[0m 9ms/step - accuracy: 0.2907 - loss: 1.2832 - val_accuracy: 0.0500 - val_loss: 7.3323\n",
            "Epoch 73/100\n",
            "\u001b[1m34/34\u001b[0m \u001b[32m━━━━━━━━━━━━━━━━━━━━\u001b[0m\u001b[37m\u001b[0m \u001b[1m0s\u001b[0m 9ms/step - accuracy: 0.3019 - loss: 1.2170 - val_accuracy: 0.0493 - val_loss: 7.3893\n",
            "Epoch 74/100\n",
            "\u001b[1m34/34\u001b[0m \u001b[32m━━━━━━━━━━━━━━━━━━━━\u001b[0m\u001b[37m\u001b[0m \u001b[1m0s\u001b[0m 9ms/step - accuracy: 0.3135 - loss: 1.1354 - val_accuracy: 0.0507 - val_loss: 7.3986\n",
            "Epoch 75/100\n",
            "\u001b[1m34/34\u001b[0m \u001b[32m━━━━━━━━━━━━━━━━━━━━\u001b[0m\u001b[37m\u001b[0m \u001b[1m0s\u001b[0m 10ms/step - accuracy: 0.3140 - loss: 1.1087 - val_accuracy: 0.0457 - val_loss: 7.4625\n",
            "Epoch 76/100\n",
            "\u001b[1m34/34\u001b[0m \u001b[32m━━━━━━━━━━━━━━━━━━━━\u001b[0m\u001b[37m\u001b[0m \u001b[1m1s\u001b[0m 19ms/step - accuracy: 0.3210 - loss: 1.0523 - val_accuracy: 0.0507 - val_loss: 7.4083\n",
            "Epoch 77/100\n",
            "\u001b[1m34/34\u001b[0m \u001b[32m━━━━━━━━━━━━━━━━━━━━\u001b[0m\u001b[37m\u001b[0m \u001b[1m1s\u001b[0m 19ms/step - accuracy: 0.3233 - loss: 1.0161 - val_accuracy: 0.0507 - val_loss: 7.4509\n",
            "Epoch 78/100\n",
            "\u001b[1m34/34\u001b[0m \u001b[32m━━━━━━━━━━━━━━━━━━━━\u001b[0m\u001b[37m\u001b[0m \u001b[1m1s\u001b[0m 19ms/step - accuracy: 0.3319 - loss: 0.9681 - val_accuracy: 0.0522 - val_loss: 7.5532\n",
            "Epoch 79/100\n",
            "\u001b[1m34/34\u001b[0m \u001b[32m━━━━━━━━━━━━━━━━━━━━\u001b[0m\u001b[37m\u001b[0m \u001b[1m0s\u001b[0m 11ms/step - accuracy: 0.3355 - loss: 0.9085 - val_accuracy: 0.0500 - val_loss: 7.5962\n",
            "Epoch 80/100\n",
            "\u001b[1m34/34\u001b[0m \u001b[32m━━━━━━━━━━━━━━━━━━━━\u001b[0m\u001b[37m\u001b[0m \u001b[1m0s\u001b[0m 12ms/step - accuracy: 0.3337 - loss: 0.8973 - val_accuracy: 0.0493 - val_loss: 7.5788\n",
            "Epoch 81/100\n",
            "\u001b[1m34/34\u001b[0m \u001b[32m━━━━━━━━━━━━━━━━━━━━\u001b[0m\u001b[37m\u001b[0m \u001b[1m1s\u001b[0m 18ms/step - accuracy: 0.3448 - loss: 0.8209 - val_accuracy: 0.0478 - val_loss: 7.6075\n",
            "Epoch 82/100\n",
            "\u001b[1m34/34\u001b[0m \u001b[32m━━━━━━━━━━━━━━━━━━━━\u001b[0m\u001b[37m\u001b[0m \u001b[1m0s\u001b[0m 9ms/step - accuracy: 0.3488 - loss: 0.7837 - val_accuracy: 0.0493 - val_loss: 7.6722\n",
            "Epoch 83/100\n",
            "\u001b[1m34/34\u001b[0m \u001b[32m━━━━━━━━━━━━━━━━━━━━\u001b[0m\u001b[37m\u001b[0m \u001b[1m0s\u001b[0m 8ms/step - accuracy: 0.3513 - loss: 0.7443 - val_accuracy: 0.0464 - val_loss: 7.6706\n",
            "Epoch 84/100\n",
            "\u001b[1m34/34\u001b[0m \u001b[32m━━━━━━━━━━━━━━━━━━━━\u001b[0m\u001b[37m\u001b[0m \u001b[1m0s\u001b[0m 8ms/step - accuracy: 0.3577 - loss: 0.6994 - val_accuracy: 0.0493 - val_loss: 7.7510\n",
            "Epoch 85/100\n",
            "\u001b[1m34/34\u001b[0m \u001b[32m━━━━━━━━━━━━━━━━━━━━\u001b[0m\u001b[37m\u001b[0m \u001b[1m0s\u001b[0m 8ms/step - accuracy: 0.3587 - loss: 0.6801 - val_accuracy: 0.0486 - val_loss: 7.7257\n",
            "Epoch 86/100\n",
            "\u001b[1m34/34\u001b[0m \u001b[32m━━━━━━━━━━━━━━━━━━━━\u001b[0m\u001b[37m\u001b[0m \u001b[1m0s\u001b[0m 9ms/step - accuracy: 0.3613 - loss: 0.6455 - val_accuracy: 0.0493 - val_loss: 7.8222\n",
            "Epoch 87/100\n",
            "\u001b[1m34/34\u001b[0m \u001b[32m━━━━━━━━━━━━━━━━━━━━\u001b[0m\u001b[37m\u001b[0m \u001b[1m0s\u001b[0m 8ms/step - accuracy: 0.3633 - loss: 0.6139 - val_accuracy: 0.0449 - val_loss: 7.7878\n",
            "Epoch 88/100\n",
            "\u001b[1m34/34\u001b[0m \u001b[32m━━━━━━━━━━━━━━━━━━━━\u001b[0m\u001b[37m\u001b[0m \u001b[1m0s\u001b[0m 8ms/step - accuracy: 0.3674 - loss: 0.5680 - val_accuracy: 0.0449 - val_loss: 7.8516\n",
            "Epoch 89/100\n",
            "\u001b[1m34/34\u001b[0m \u001b[32m━━━━━━━━━━━━━━━━━━━━\u001b[0m\u001b[37m\u001b[0m \u001b[1m0s\u001b[0m 9ms/step - accuracy: 0.3697 - loss: 0.5332 - val_accuracy: 0.0486 - val_loss: 7.8876\n",
            "Epoch 90/100\n",
            "\u001b[1m34/34\u001b[0m \u001b[32m━━━━━━━━━━━━━━━━━━━━\u001b[0m\u001b[37m\u001b[0m \u001b[1m0s\u001b[0m 9ms/step - accuracy: 0.3719 - loss: 0.5132 - val_accuracy: 0.0507 - val_loss: 7.9375\n",
            "Epoch 91/100\n",
            "\u001b[1m34/34\u001b[0m \u001b[32m━━━━━━━━━━━━━━━━━━━━\u001b[0m\u001b[37m\u001b[0m \u001b[1m0s\u001b[0m 8ms/step - accuracy: 0.3725 - loss: 0.4865 - val_accuracy: 0.0464 - val_loss: 7.9529\n",
            "Epoch 92/100\n",
            "\u001b[1m34/34\u001b[0m \u001b[32m━━━━━━━━━━━━━━━━━━━━\u001b[0m\u001b[37m\u001b[0m \u001b[1m0s\u001b[0m 8ms/step - accuracy: 0.3758 - loss: 0.4539 - val_accuracy: 0.0449 - val_loss: 7.9871\n",
            "Epoch 93/100\n",
            "\u001b[1m34/34\u001b[0m \u001b[32m━━━━━━━━━━━━━━━━━━━━\u001b[0m\u001b[37m\u001b[0m \u001b[1m0s\u001b[0m 9ms/step - accuracy: 0.3787 - loss: 0.4326 - val_accuracy: 0.0457 - val_loss: 7.9667\n",
            "Epoch 94/100\n",
            "\u001b[1m34/34\u001b[0m \u001b[32m━━━━━━━━━━━━━━━━━━━━\u001b[0m\u001b[37m\u001b[0m \u001b[1m0s\u001b[0m 9ms/step - accuracy: 0.3778 - loss: 0.4040 - val_accuracy: 0.0449 - val_loss: 8.0506\n",
            "Epoch 95/100\n",
            "\u001b[1m34/34\u001b[0m \u001b[32m━━━━━━━━━━━━━━━━━━━━\u001b[0m\u001b[37m\u001b[0m \u001b[1m0s\u001b[0m 9ms/step - accuracy: 0.3806 - loss: 0.3801 - val_accuracy: 0.0457 - val_loss: 8.0835\n",
            "Epoch 96/100\n",
            "\u001b[1m34/34\u001b[0m \u001b[32m━━━━━━━━━━━━━━━━━━━━\u001b[0m\u001b[37m\u001b[0m \u001b[1m0s\u001b[0m 9ms/step - accuracy: 0.3842 - loss: 0.3564 - val_accuracy: 0.0478 - val_loss: 8.0967\n",
            "Epoch 97/100\n",
            "\u001b[1m34/34\u001b[0m \u001b[32m━━━━━━━━━━━━━━━━━━━━\u001b[0m\u001b[37m\u001b[0m \u001b[1m0s\u001b[0m 9ms/step - accuracy: 0.3830 - loss: 0.3446 - val_accuracy: 0.0464 - val_loss: 8.1289\n",
            "Epoch 98/100\n",
            "\u001b[1m34/34\u001b[0m \u001b[32m━━━━━━━━━━━━━━━━━━━━\u001b[0m\u001b[37m\u001b[0m \u001b[1m0s\u001b[0m 9ms/step - accuracy: 0.3841 - loss: 0.3154 - val_accuracy: 0.0435 - val_loss: 8.2637\n",
            "Epoch 99/100\n",
            "\u001b[1m34/34\u001b[0m \u001b[32m━━━━━━━━━━━━━━━━━━━━\u001b[0m\u001b[37m\u001b[0m \u001b[1m0s\u001b[0m 8ms/step - accuracy: 0.3882 - loss: 0.2983 - val_accuracy: 0.0493 - val_loss: 8.1954\n",
            "Epoch 100/100\n",
            "\u001b[1m34/34\u001b[0m \u001b[32m━━━━━━━━━━━━━━━━━━━━\u001b[0m\u001b[37m\u001b[0m \u001b[1m0s\u001b[0m 8ms/step - accuracy: 0.3907 - loss: 0.2717 - val_accuracy: 0.0478 - val_loss: 8.2455\n"
          ]
        }
      ],
      "source": [
        "import numpy as np\n",
        "import tensorflow as tf\n",
        "import math\n",
        "from tensorflow.keras.models import Model\n",
        "from tensorflow.keras.layers import Input, LSTM, Embedding, Dense\n",
        "\n",
        "# ⚙️ Hyperparameters\n",
        "batch_size = 8\n",
        "epochs = 100\n",
        "embedding_dim = 256\n",
        "latent_dim = 256\n",
        "\n",
        "# 🧾 Pre-requisite: You must define these before training\n",
        "# Assume these are already computed from your preprocessing steps\n",
        "# input_token_index, target_token_index, X_train, y_train, X_test, y_test\n",
        "\n",
        "# 🔢 Size Definitions\n",
        "num_encoder_tokens = len(input_token_index)\n",
        "num_decoder_tokens = len(target_token_index)\n",
        "max_length_src = max([len(text.split()) for text in X_train])\n",
        "max_length_tar = max([len(text.split()) for text in y_train])\n",
        "\n",
        "# 🔁 Custom Batch Generator\n",
        "def generate_batch(X, y, batch_size=128):\n",
        "    while True:\n",
        "        for j in range(0, len(X), batch_size):\n",
        "            curr_batch_size = len(X[j:j+batch_size])\n",
        "            encoder_input_data = np.zeros((curr_batch_size, max_length_src), dtype='int32')\n",
        "            decoder_input_data = np.zeros((curr_batch_size, max_length_tar), dtype='int32')\n",
        "            decoder_target_data = np.zeros((curr_batch_size, max_length_tar, num_decoder_tokens), dtype='float32')\n",
        "\n",
        "            for i, (input_text, target_text) in enumerate(zip(X[j:j+batch_size], y[j:j+batch_size])):\n",
        "                input_seq = input_text.split()\n",
        "                target_seq = target_text.split()\n",
        "\n",
        "                for t, word in enumerate(input_seq):\n",
        "                    if t < max_length_src:\n",
        "                        encoder_input_data[i, t] = input_token_index.get(word, 0)\n",
        "\n",
        "                for t, word in enumerate(target_seq):\n",
        "                    if t < max_length_tar:\n",
        "                        decoder_input_data[i, t] = target_token_index.get(word, 0)\n",
        "                    if t > 0 and t - 1 < max_length_tar:\n",
        "                        decoder_target_data[i, t - 1, target_token_index.get(word, 0)] = 1.0\n",
        "\n",
        "            yield (encoder_input_data, decoder_input_data), decoder_target_data\n",
        "\n",
        "# 📐 Dataset Info\n",
        "train_samples = len(X_train)\n",
        "val_samples = len(X_test)\n",
        "steps_per_epoch = math.ceil(train_samples / batch_size)\n",
        "validation_steps = math.ceil(val_samples / batch_size)\n",
        "\n",
        "# 🧱 Dataset API from Generator\n",
        "train_dataset = tf.data.Dataset.from_generator(\n",
        "    lambda: generate_batch(X_train, y_train, batch_size),\n",
        "    output_signature=(\n",
        "        (\n",
        "            tf.TensorSpec(shape=(None, max_length_src), dtype=tf.int32),\n",
        "            tf.TensorSpec(shape=(None, max_length_tar), dtype=tf.int32)\n",
        "        ),\n",
        "        tf.TensorSpec(shape=(None, max_length_tar, num_decoder_tokens), dtype=tf.float32)\n",
        "    )\n",
        ")\n",
        "\n",
        "val_dataset = tf.data.Dataset.from_generator(\n",
        "    lambda: generate_batch(X_test, y_test, batch_size),\n",
        "    output_signature=(\n",
        "        (\n",
        "            tf.TensorSpec(shape=(None, max_length_src), dtype=tf.int32),\n",
        "            tf.TensorSpec(shape=(None, max_length_tar), dtype=tf.int32)\n",
        "        ),\n",
        "        tf.TensorSpec(shape=(None, max_length_tar, num_decoder_tokens), dtype=tf.float32)\n",
        "    )\n",
        ")\n",
        "\n",
        "# 🧠 Encoder\n",
        "encoder_inputs = Input(shape=(None,))\n",
        "enc_emb_layer = Embedding(input_dim=num_encoder_tokens, output_dim=embedding_dim, mask_zero=True)\n",
        "enc_emb = enc_emb_layer(encoder_inputs)\n",
        "encoder_lstm = LSTM(latent_dim, return_state=True, unroll=True)\n",
        "encoder_outputs, state_h, state_c = encoder_lstm(enc_emb)\n",
        "encoder_states = [state_h, state_c]\n",
        "\n",
        "# 🧠 Decoder\n",
        "decoder_inputs = Input(shape=(None,))\n",
        "dec_emb_layer = Embedding(input_dim=num_decoder_tokens, output_dim=embedding_dim, mask_zero=True)\n",
        "dec_emb = dec_emb_layer(decoder_inputs)\n",
        "decoder_lstm = LSTM(latent_dim, return_sequences=True, return_state=True, unroll=True)\n",
        "decoder_outputs, _, _ = decoder_lstm(dec_emb, initial_state=encoder_states)\n",
        "decoder_dense = Dense(num_decoder_tokens, activation='softmax')\n",
        "decoder_outputs = decoder_dense(decoder_outputs)\n",
        "\n",
        "# 🔧 Compile & Train Model\n",
        "model = Model([encoder_inputs, decoder_inputs], decoder_outputs)\n",
        "model.compile(optimizer='rmsprop', loss='categorical_crossentropy', metrics=['accuracy'])\n",
        "\n",
        "# 🚀 Training\n",
        "history = model.fit(\n",
        "    train_dataset,\n",
        "    steps_per_epoch=steps_per_epoch,\n",
        "    epochs=epochs,\n",
        "    validation_data=val_dataset,\n",
        "    validation_steps=validation_steps\n",
        ")\n",
        "\n",
        "# 💾 Save Trained Weights\n",
        "model.save_weights('nmt_weights.weights.h5')\n"
      ]
    },
    {
      "cell_type": "code",
      "execution_count": null,
      "metadata": {
        "colab": {
          "base_uri": "https://localhost:8080/"
        },
        "id": "7lfH4OHUHfWC",
        "outputId": "e5105699-119b-4fbb-8095-3bd7712a75f2"
      },
      "outputs": [
        {
          "name": "stdout",
          "output_type": "stream",
          "text": [
            "\u001b[1m1/1\u001b[0m \u001b[32m━━━━━━━━━━━━━━━━━━━━\u001b[0m\u001b[37m\u001b[0m \u001b[1m3s\u001b[0m 3s/step\n",
            "\u001b[1m1/1\u001b[0m \u001b[32m━━━━━━━━━━━━━━━━━━━━\u001b[0m\u001b[37m\u001b[0m \u001b[1m0s\u001b[0m 329ms/step\n",
            "\u001b[1m1/1\u001b[0m \u001b[32m━━━━━━━━━━━━━━━━━━━━\u001b[0m\u001b[37m\u001b[0m \u001b[1m0s\u001b[0m 37ms/step\n",
            "\u001b[1m1/1\u001b[0m \u001b[32m━━━━━━━━━━━━━━━━━━━━\u001b[0m\u001b[37m\u001b[0m \u001b[1m0s\u001b[0m 47ms/step\n",
            "\u001b[1m1/1\u001b[0m \u001b[32m━━━━━━━━━━━━━━━━━━━━\u001b[0m\u001b[37m\u001b[0m \u001b[1m0s\u001b[0m 34ms/step\n",
            "\u001b[1m1/1\u001b[0m \u001b[32m━━━━━━━━━━━━━━━━━━━━\u001b[0m\u001b[37m\u001b[0m \u001b[1m0s\u001b[0m 39ms/step\n",
            "\u001b[1m1/1\u001b[0m \u001b[32m━━━━━━━━━━━━━━━━━━━━\u001b[0m\u001b[37m\u001b[0m \u001b[1m0s\u001b[0m 37ms/step\n",
            "🔤 Input Angika sentence: आर आख मनल कलडय म कहतक\n",
            "✅ Actual English Translation:  saying in a closedeyed way \n",
            "🤖 Predicted English Translation: saying in a closedeyed way\n"
          ]
        }
      ],
      "source": [
        "from tensorflow.keras.models import Model\n",
        "from tensorflow.keras.layers import Input\n",
        "import numpy as np\n",
        "\n",
        "# ✅ Reverse the target_token_index to get index → word mapping\n",
        "reverse_target_token_index = dict((i, word) for word, i in target_token_index.items())\n",
        "\n",
        "# ✅ 1. Encoder Inference Model\n",
        "encoder_model = Model(encoder_inputs, encoder_states)\n",
        "\n",
        "# ✅ 2. Decoder Inference Model\n",
        "decoder_state_input_h = Input(shape=(latent_dim,), name=\"input_h\")\n",
        "decoder_state_input_c = Input(shape=(latent_dim,), name=\"input_c\")\n",
        "decoder_states_inputs = [decoder_state_input_h, decoder_state_input_c]\n",
        "\n",
        "# 🔁 Inference decoder input (new Input layer with batch size 1)\n",
        "decoder_inputs_inf = Input(shape=(1,), name=\"decoder_input_infer\")\n",
        "dec_emb_inf = dec_emb_layer(decoder_inputs_inf)\n",
        "\n",
        "# 🔁 Decoder output and state updates\n",
        "decoder_outputs2, state_h2, state_c2 = decoder_lstm(\n",
        "    dec_emb_inf, initial_state=decoder_states_inputs\n",
        ")\n",
        "decoder_states2 = [state_h2, state_c2]\n",
        "decoder_outputs2 = decoder_dense(decoder_outputs2)\n",
        "\n",
        "# ✅ Final decoder inference model\n",
        "decoder_model = Model(\n",
        "    [decoder_inputs_inf] + decoder_states_inputs,\n",
        "    [decoder_outputs2] + decoder_states2\n",
        ")\n",
        "\n",
        "# ✅ 3. Decoding Function\n",
        "def decode_sequence(input_seq):\n",
        "    # Encode the input sentence to get initial states\n",
        "    states_value = encoder_model.predict(input_seq)\n",
        "\n",
        "    # Start with the START_ token\n",
        "    target_seq = np.zeros((1, 1), dtype='int32')\n",
        "    target_seq[0, 0] = target_token_index['START_']\n",
        "\n",
        "    decoded_sentence = ''\n",
        "    stop_condition = False\n",
        "\n",
        "    while not stop_condition:\n",
        "        # Predict next token\n",
        "        output_tokens, h, c = decoder_model.predict([target_seq] + states_value)\n",
        "\n",
        "        # Sample predicted token\n",
        "        sampled_token_index = np.argmax(output_tokens[0, -1, :])\n",
        "        sampled_word = reverse_target_token_index.get(sampled_token_index, '')\n",
        "\n",
        "        if sampled_word == '_END' or len(decoded_sentence.split()) > max_length_tar:\n",
        "            stop_condition = True\n",
        "        else:\n",
        "            decoded_sentence += ' ' + sampled_word\n",
        "\n",
        "        # Update target_seq and states\n",
        "        target_seq[0, 0] = sampled_token_index\n",
        "        states_value = [h, c]\n",
        "\n",
        "    return decoded_sentence.strip()\n",
        "\n",
        "# ✅ 4. Pick a Test Sentence and Translate\n",
        "train_gen = generate_batch(X_train, y_train, batch_size=1)\n",
        "(input_seq, actual_output), _ = next(train_gen)\n",
        "\n",
        "# Translate\n",
        "decoded_sentence = decode_sequence(input_seq)\n",
        "\n",
        "# ✅ 5. Show Input / Target / Prediction\n",
        "k = 0\n",
        "print('🔤 Input Angika sentence:', X_train.iloc[k])\n",
        "print('✅ Actual English Translation:', y_train.iloc[k][6:-4])  # Remove START_/_END\n",
        "print('🤖 Predicted English Translation:', decoded_sentence)\n"
      ]
    },
    {
      "cell_type": "code",
      "execution_count": null,
      "metadata": {
        "colab": {
          "base_uri": "https://localhost:8080/"
        },
        "id": "AFxx6UJ8mI_p",
        "outputId": "768b70da-aa15-46c2-dafc-138c882e8c4c"
      },
      "outputs": [
        {
          "name": "stdout",
          "output_type": "stream",
          "text": [
            "\u001b[1m1/1\u001b[0m \u001b[32m━━━━━━━━━━━━━━━━━━━━\u001b[0m\u001b[37m\u001b[0m \u001b[1m0s\u001b[0m 36ms/step\n",
            "\u001b[1m1/1\u001b[0m \u001b[32m━━━━━━━━━━━━━━━━━━━━\u001b[0m\u001b[37m\u001b[0m \u001b[1m0s\u001b[0m 38ms/step\n",
            "\u001b[1m1/1\u001b[0m \u001b[32m━━━━━━━━━━━━━━━━━━━━\u001b[0m\u001b[37m\u001b[0m \u001b[1m0s\u001b[0m 36ms/step\n",
            "\u001b[1m1/1\u001b[0m \u001b[32m━━━━━━━━━━━━━━━━━━━━\u001b[0m\u001b[37m\u001b[0m \u001b[1m0s\u001b[0m 37ms/step\n",
            "\u001b[1m1/1\u001b[0m \u001b[32m━━━━━━━━━━━━━━━━━━━━\u001b[0m\u001b[37m\u001b[0m \u001b[1m0s\u001b[0m 34ms/step\n",
            "\u001b[1m1/1\u001b[0m \u001b[32m━━━━━━━━━━━━━━━━━━━━\u001b[0m\u001b[37m\u001b[0m \u001b[1m0s\u001b[0m 40ms/step\n",
            "\u001b[1m1/1\u001b[0m \u001b[32m━━━━━━━━━━━━━━━━━━━━\u001b[0m\u001b[37m\u001b[0m \u001b[1m0s\u001b[0m 34ms/step\n",
            "\n",
            "🔢 Example 1\n",
            "🔤 Input Angika sentence: आर आख मनल कलडय म कहतक\n",
            "✅ Actual English Translation:  saying in a closedeyed way \n",
            "🤖 Predicted English Translation: saying in a closedeyed way\n",
            "\u001b[1m1/1\u001b[0m \u001b[32m━━━━━━━━━━━━━━━━━━━━\u001b[0m\u001b[37m\u001b[0m \u001b[1m0s\u001b[0m 31ms/step\n",
            "\u001b[1m1/1\u001b[0m \u001b[32m━━━━━━━━━━━━━━━━━━━━\u001b[0m\u001b[37m\u001b[0m \u001b[1m0s\u001b[0m 39ms/step\n",
            "\u001b[1m1/1\u001b[0m \u001b[32m━━━━━━━━━━━━━━━━━━━━\u001b[0m\u001b[37m\u001b[0m \u001b[1m0s\u001b[0m 37ms/step\n",
            "\u001b[1m1/1\u001b[0m \u001b[32m━━━━━━━━━━━━━━━━━━━━\u001b[0m\u001b[37m\u001b[0m \u001b[1m0s\u001b[0m 33ms/step\n",
            "\u001b[1m1/1\u001b[0m \u001b[32m━━━━━━━━━━━━━━━━━━━━\u001b[0m\u001b[37m\u001b[0m \u001b[1m0s\u001b[0m 35ms/step\n",
            "\u001b[1m1/1\u001b[0m \u001b[32m━━━━━━━━━━━━━━━━━━━━\u001b[0m\u001b[37m\u001b[0m \u001b[1m0s\u001b[0m 37ms/step\n",
            "\n",
            "🔢 Example 2\n",
            "🔤 Input Angika sentence: फरल बर जय\n",
            "✅ Actual English Translation:  it could be returned \n",
            "🤖 Predicted English Translation: it could be returned\n",
            "\u001b[1m1/1\u001b[0m \u001b[32m━━━━━━━━━━━━━━━━━━━━\u001b[0m\u001b[37m\u001b[0m \u001b[1m0s\u001b[0m 32ms/step\n",
            "\u001b[1m1/1\u001b[0m \u001b[32m━━━━━━━━━━━━━━━━━━━━\u001b[0m\u001b[37m\u001b[0m \u001b[1m0s\u001b[0m 40ms/step\n",
            "\u001b[1m1/1\u001b[0m \u001b[32m━━━━━━━━━━━━━━━━━━━━\u001b[0m\u001b[37m\u001b[0m \u001b[1m0s\u001b[0m 37ms/step\n",
            "\u001b[1m1/1\u001b[0m \u001b[32m━━━━━━━━━━━━━━━━━━━━\u001b[0m\u001b[37m\u001b[0m \u001b[1m0s\u001b[0m 38ms/step\n",
            "\u001b[1m1/1\u001b[0m \u001b[32m━━━━━━━━━━━━━━━━━━━━\u001b[0m\u001b[37m\u001b[0m \u001b[1m0s\u001b[0m 37ms/step\n",
            "\n",
            "🔢 Example 3\n",
            "🔤 Input Angika sentence: हल त खब हय गल\n",
            "✅ Actual English Translation:  a lot happened \n",
            "🤖 Predicted English Translation: a lot happened\n",
            "\u001b[1m1/1\u001b[0m \u001b[32m━━━━━━━━━━━━━━━━━━━━\u001b[0m\u001b[37m\u001b[0m \u001b[1m0s\u001b[0m 55ms/step\n",
            "\u001b[1m1/1\u001b[0m \u001b[32m━━━━━━━━━━━━━━━━━━━━\u001b[0m\u001b[37m\u001b[0m \u001b[1m0s\u001b[0m 57ms/step\n",
            "\u001b[1m1/1\u001b[0m \u001b[32m━━━━━━━━━━━━━━━━━━━━\u001b[0m\u001b[37m\u001b[0m \u001b[1m0s\u001b[0m 59ms/step\n",
            "\n",
            "🔢 Example 4\n",
            "🔤 Input Angika sentence: पसकस pisces\n",
            "✅ Actual English Translation:  pisces \n",
            "🤖 Predicted English Translation: pisces\n",
            "\u001b[1m1/1\u001b[0m \u001b[32m━━━━━━━━━━━━━━━━━━━━\u001b[0m\u001b[37m\u001b[0m \u001b[1m0s\u001b[0m 57ms/step\n",
            "\u001b[1m1/1\u001b[0m \u001b[32m━━━━━━━━━━━━━━━━━━━━\u001b[0m\u001b[37m\u001b[0m \u001b[1m0s\u001b[0m 52ms/step\n",
            "\u001b[1m1/1\u001b[0m \u001b[32m━━━━━━━━━━━━━━━━━━━━\u001b[0m\u001b[37m\u001b[0m \u001b[1m0s\u001b[0m 57ms/step\n",
            "\u001b[1m1/1\u001b[0m \u001b[32m━━━━━━━━━━━━━━━━━━━━\u001b[0m\u001b[37m\u001b[0m \u001b[1m0s\u001b[0m 53ms/step\n",
            "\u001b[1m1/1\u001b[0m \u001b[32m━━━━━━━━━━━━━━━━━━━━\u001b[0m\u001b[37m\u001b[0m \u001b[1m0s\u001b[0m 53ms/step\n",
            "\u001b[1m1/1\u001b[0m \u001b[32m━━━━━━━━━━━━━━━━━━━━\u001b[0m\u001b[37m\u001b[0m \u001b[1m0s\u001b[0m 50ms/step\n",
            "\u001b[1m1/1\u001b[0m \u001b[32m━━━━━━━━━━━━━━━━━━━━\u001b[0m\u001b[37m\u001b[0m \u001b[1m0s\u001b[0m 65ms/step\n",
            "\u001b[1m1/1\u001b[0m \u001b[32m━━━━━━━━━━━━━━━━━━━━\u001b[0m\u001b[37m\u001b[0m \u001b[1m0s\u001b[0m 55ms/step\n",
            "\u001b[1m1/1\u001b[0m \u001b[32m━━━━━━━━━━━━━━━━━━━━\u001b[0m\u001b[37m\u001b[0m \u001b[1m0s\u001b[0m 56ms/step\n",
            "\n",
            "🔢 Example 5\n",
            "🔤 Input Angika sentence: मनददर नर अजञन बल तब लकश\n",
            "✅ Actual English Translation:  mandodari not ignorant speaks then to lankesh \n",
            "🤖 Predicted English Translation: mandodari not ignorant speaks then to lankesh\n"
          ]
        }
      ],
      "source": [
        "# 🔄 Generator for single-sample batches\n",
        "train_gen = generate_batch(X_train, y_train, batch_size=1)\n",
        "\n",
        "# 🔁 Loop through first N samples\n",
        "N = 5  # Change this to how many examples you want\n",
        "for i in range(N):\n",
        "    (input_seq, actual_output), _ = next(train_gen)\n",
        "    decoded_sentence = decode_sequence(input_seq)\n",
        "\n",
        "    print(f\"\\n🔢 Example {i+1}\")\n",
        "    print(\"🔤 Input Angika sentence:\", X_train.iloc[i])\n",
        "    print(\"✅ Actual English Translation:\", y_train.iloc[i][6:-4])  # Remove START_/END\n",
        "    print(\"🤖 Predicted English Translation:\", decoded_sentence.replace('_END', '').strip())\n"
      ]
    }
  ],
  "metadata": {
    "colab": {
      "provenance": []
    },
    "kernelspec": {
      "display_name": "Python 3",
      "name": "python3"
    },
    "language_info": {
      "name": "python"
    }
  },
  "nbformat": 4,
  "nbformat_minor": 0
}
